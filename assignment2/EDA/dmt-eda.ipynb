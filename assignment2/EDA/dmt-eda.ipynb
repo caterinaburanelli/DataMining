{
  "cells": [
    {
      "cell_type": "code",
      "source": [
        "import pandas as pd\n",
        "import numpy as np\n",
        "import seaborn as sns\n",
        "import datetime\n",
        "import matplotlib.pyplot as plt\n",
        "from sklearn.preprocessing import LabelEncoder\n",
        "from sklearn.preprocessing import StandardScaler\n",
        "from sklearn.decomposition import PCA\n",
        "from sklearn import metrics\n",
        "from sklearn.ensemble import RandomForestClassifier\n",
        "from sklearn.linear_model import LogisticRegression\n",
        "from sklearn.svm import LinearSVC\n",
        "from sklearn.neighbors import NearestNeighbors\n",
        "from sklearn.model_selection import train_test_split\n",
        "from sklearn import preprocessing\n",
        "from sklearn import utils\n",
        "from sklearn.neighbors import KNeighborsClassifier\n",
        "from sklearn.svm import SVC\n",
        "from sklearn.naive_bayes import GaussianNB\n",
        "from sklearn.utils import shuffle\n",
        "from sklearn.metrics import accuracy_score, f1_score, precision_score, recall_score, classification_report, confusion_matrix\n",
        "from sklearn.model_selection import cross_val_score\n",
        "from sklearn.tree import DecisionTreeClassifier\n",
        "import re\n",
        "import random\n",
        "\n",
        "plt.rcParams[\"figure.figsize\"]=10,5\n",
        "plt.rc('xtick', labelsize=25) \n",
        "plt.rc('ytick', labelsize=25) \n",
        "text_size = 25\n",
        "line_width = 2.5\n",
        "plt.style.use('ggplot')\n",
        "sns.set_palette(\"twilight\")"
      ],
      "outputs": [],
      "execution_count": 1,
      "metadata": {
        "trusted": true,
        "gather": {
          "logged": 1620754744711
        }
      }
    },
    {
      "cell_type": "code",
      "source": [
        "df = pd.read_csv(\"training_set_VU_DM.csv\")\n",
        "df['date_time'] = pd.to_datetime(df['date_time'])\n",
        "df.head()"
      ],
      "outputs": [
        {
          "output_type": "execute_result",
          "execution_count": 4,
          "data": {
            "text/plain": "   srch_id           date_time  site_id  visitor_location_country_id  \\\n0        1 2013-04-04 08:32:15       12                          187   \n1        1 2013-04-04 08:32:15       12                          187   \n2        1 2013-04-04 08:32:15       12                          187   \n3        1 2013-04-04 08:32:15       12                          187   \n4        1 2013-04-04 08:32:15       12                          187   \n\n   visitor_hist_starrating  visitor_hist_adr_usd  prop_country_id  prop_id  \\\n0                      NaN                   NaN              219      893   \n1                      NaN                   NaN              219    10404   \n2                      NaN                   NaN              219    21315   \n3                      NaN                   NaN              219    27348   \n4                      NaN                   NaN              219    29604   \n\n   prop_starrating  prop_review_score  ...  comp6_rate_percent_diff  \\\n0                3                3.5  ...                      NaN   \n1                4                4.0  ...                      NaN   \n2                3                4.5  ...                      NaN   \n3                2                4.0  ...                      NaN   \n4                4                3.5  ...                      NaN   \n\n   comp7_rate  comp7_inv  comp7_rate_percent_diff  comp8_rate  comp8_inv  \\\n0         NaN        NaN                      NaN         0.0        0.0   \n1         NaN        NaN                      NaN         0.0        0.0   \n2         NaN        NaN                      NaN         0.0        0.0   \n3         NaN        NaN                      NaN        -1.0        0.0   \n4         NaN        NaN                      NaN         0.0        0.0   \n\n   comp8_rate_percent_diff  click_bool  gross_bookings_usd  booking_bool  \n0                      NaN           0                 NaN             0  \n1                      NaN           0                 NaN             0  \n2                      NaN           0                 NaN             0  \n3                      5.0           0                 NaN             0  \n4                      NaN           0                 NaN             0  \n\n[5 rows x 54 columns]",
            "text/html": "<div>\n<style scoped>\n    .dataframe tbody tr th:only-of-type {\n        vertical-align: middle;\n    }\n\n    .dataframe tbody tr th {\n        vertical-align: top;\n    }\n\n    .dataframe thead th {\n        text-align: right;\n    }\n</style>\n<table border=\"1\" class=\"dataframe\">\n  <thead>\n    <tr style=\"text-align: right;\">\n      <th></th>\n      <th>srch_id</th>\n      <th>date_time</th>\n      <th>site_id</th>\n      <th>visitor_location_country_id</th>\n      <th>visitor_hist_starrating</th>\n      <th>visitor_hist_adr_usd</th>\n      <th>prop_country_id</th>\n      <th>prop_id</th>\n      <th>prop_starrating</th>\n      <th>prop_review_score</th>\n      <th>...</th>\n      <th>comp6_rate_percent_diff</th>\n      <th>comp7_rate</th>\n      <th>comp7_inv</th>\n      <th>comp7_rate_percent_diff</th>\n      <th>comp8_rate</th>\n      <th>comp8_inv</th>\n      <th>comp8_rate_percent_diff</th>\n      <th>click_bool</th>\n      <th>gross_bookings_usd</th>\n      <th>booking_bool</th>\n    </tr>\n  </thead>\n  <tbody>\n    <tr>\n      <th>0</th>\n      <td>1</td>\n      <td>2013-04-04 08:32:15</td>\n      <td>12</td>\n      <td>187</td>\n      <td>NaN</td>\n      <td>NaN</td>\n      <td>219</td>\n      <td>893</td>\n      <td>3</td>\n      <td>3.5</td>\n      <td>...</td>\n      <td>NaN</td>\n      <td>NaN</td>\n      <td>NaN</td>\n      <td>NaN</td>\n      <td>0.0</td>\n      <td>0.0</td>\n      <td>NaN</td>\n      <td>0</td>\n      <td>NaN</td>\n      <td>0</td>\n    </tr>\n    <tr>\n      <th>1</th>\n      <td>1</td>\n      <td>2013-04-04 08:32:15</td>\n      <td>12</td>\n      <td>187</td>\n      <td>NaN</td>\n      <td>NaN</td>\n      <td>219</td>\n      <td>10404</td>\n      <td>4</td>\n      <td>4.0</td>\n      <td>...</td>\n      <td>NaN</td>\n      <td>NaN</td>\n      <td>NaN</td>\n      <td>NaN</td>\n      <td>0.0</td>\n      <td>0.0</td>\n      <td>NaN</td>\n      <td>0</td>\n      <td>NaN</td>\n      <td>0</td>\n    </tr>\n    <tr>\n      <th>2</th>\n      <td>1</td>\n      <td>2013-04-04 08:32:15</td>\n      <td>12</td>\n      <td>187</td>\n      <td>NaN</td>\n      <td>NaN</td>\n      <td>219</td>\n      <td>21315</td>\n      <td>3</td>\n      <td>4.5</td>\n      <td>...</td>\n      <td>NaN</td>\n      <td>NaN</td>\n      <td>NaN</td>\n      <td>NaN</td>\n      <td>0.0</td>\n      <td>0.0</td>\n      <td>NaN</td>\n      <td>0</td>\n      <td>NaN</td>\n      <td>0</td>\n    </tr>\n    <tr>\n      <th>3</th>\n      <td>1</td>\n      <td>2013-04-04 08:32:15</td>\n      <td>12</td>\n      <td>187</td>\n      <td>NaN</td>\n      <td>NaN</td>\n      <td>219</td>\n      <td>27348</td>\n      <td>2</td>\n      <td>4.0</td>\n      <td>...</td>\n      <td>NaN</td>\n      <td>NaN</td>\n      <td>NaN</td>\n      <td>NaN</td>\n      <td>-1.0</td>\n      <td>0.0</td>\n      <td>5.0</td>\n      <td>0</td>\n      <td>NaN</td>\n      <td>0</td>\n    </tr>\n    <tr>\n      <th>4</th>\n      <td>1</td>\n      <td>2013-04-04 08:32:15</td>\n      <td>12</td>\n      <td>187</td>\n      <td>NaN</td>\n      <td>NaN</td>\n      <td>219</td>\n      <td>29604</td>\n      <td>4</td>\n      <td>3.5</td>\n      <td>...</td>\n      <td>NaN</td>\n      <td>NaN</td>\n      <td>NaN</td>\n      <td>NaN</td>\n      <td>0.0</td>\n      <td>0.0</td>\n      <td>NaN</td>\n      <td>0</td>\n      <td>NaN</td>\n      <td>0</td>\n    </tr>\n  </tbody>\n</table>\n<p>5 rows × 54 columns</p>\n</div>"
          },
          "metadata": {}
        }
      ],
      "execution_count": 4,
      "metadata": {
        "trusted": true,
        "gather": {
          "logged": 1620754867425
        }
      }
    },
    {
      "cell_type": "code",
      "source": [
        "df.shape"
      ],
      "outputs": [
        {
          "output_type": "execute_result",
          "execution_count": 158,
          "data": {
            "text/plain": "(4958347, 54)"
          },
          "metadata": {}
        }
      ],
      "execution_count": 158,
      "metadata": {
        "collapsed": true,
        "jupyter": {
          "source_hidden": false,
          "outputs_hidden": false
        },
        "nteract": {
          "transient": {
            "deleting": false
          }
        },
        "gather": {
          "logged": 1620572123461
        }
      }
    },
    {
      "cell_type": "code",
      "source": [
        "df.describe()"
      ],
      "outputs": [
        {
          "output_type": "execute_result",
          "execution_count": 159,
          "data": {
            "text/plain": "            srch_id       site_id  visitor_location_country_id  \\\ncount  4.958347e+06  4.958347e+06                 4.958347e+06   \nmean   1.663666e+05  9.953133e+00                 1.753405e+02   \nstd    9.611223e+04  7.646890e+00                 6.591625e+01   \nmin    1.000000e+00  1.000000e+00                 1.000000e+00   \n25%    8.293600e+04  5.000000e+00                 1.000000e+02   \n50%    1.665070e+05  5.000000e+00                 2.190000e+02   \n75%    2.497240e+05  1.400000e+01                 2.190000e+02   \nmax    3.327850e+05  3.400000e+01                 2.310000e+02   \n\n       visitor_hist_starrating  visitor_hist_adr_usd  prop_country_id  \\\ncount            251866.000000         252988.000000     4.958347e+06   \nmean                  3.374334            176.022659     1.739739e+02   \nstd                   0.692519            107.254493     6.834525e+01   \nmin                   1.410000              0.000000     1.000000e+00   \n25%                   2.920000            109.810000     1.000000e+02   \n50%                   3.450000            152.240000     2.190000e+02   \n75%                   3.930000            213.490000     2.190000e+02   \nmax                   5.000000           1958.700000     2.300000e+02   \n\n            prop_id  prop_starrating  prop_review_score  prop_brand_bool  ...  \\\ncount  4.958347e+06     4.958347e+06       4.950983e+06     4.958347e+06  ...   \nmean   7.007918e+04     3.180525e+00       3.777777e+00     6.346994e-01  ...   \nstd    4.060992e+04     1.051024e+00       1.050329e+00     4.815144e-01  ...   \nmin    1.000000e+00     0.000000e+00       0.000000e+00     0.000000e+00  ...   \n25%    3.501000e+04     3.000000e+00       3.500000e+00     0.000000e+00  ...   \n50%    6.963800e+04     3.000000e+00       4.000000e+00     1.000000e+00  ...   \n75%    1.051680e+05     4.000000e+00       4.500000e+00     1.000000e+00  ...   \nmax    1.408210e+05     5.000000e+00       5.000000e+00     1.000000e+00  ...   \n\n       comp6_rate_percent_diff     comp7_rate      comp7_inv  \\\ncount             96174.000000  315348.000000  356422.000000   \nmean                 17.250473       0.145969       0.083202   \nstd                  31.160313       0.578202       0.316722   \nmin                   2.000000      -1.000000      -1.000000   \n25%                   6.000000       0.000000       0.000000   \n50%                  11.000000       0.000000       0.000000   \n75%                  18.000000       1.000000       0.000000   \nmax                1620.000000       1.000000       1.000000   \n\n       comp7_rate_percent_diff    comp8_rate     comp8_inv  \\\ncount            138515.000000  1.916654e+06  1.987503e+06   \nmean                 19.433267 -6.089936e-02  9.962752e-03   \nstd                  54.370221  4.691723e-01  2.029142e-01   \nmin                   2.000000 -1.000000e+00 -1.000000e+00   \n25%                   7.000000  0.000000e+00  0.000000e+00   \n50%                  12.000000  0.000000e+00  0.000000e+00   \n75%                  20.000000  0.000000e+00  0.000000e+00   \nmax                9900.000000  1.000000e+00  1.000000e+00   \n\n       comp8_rate_percent_diff    click_bool  gross_bookings_usd  booking_bool  \ncount            614730.000000  4.958347e+06       138390.000000  4.958347e+06  \nmean                 22.430384  4.474858e-02          386.283316  2.791051e-02  \nstd                 895.965854  2.067514e-01          821.190577  1.647165e-01  \nmin                   2.000000  0.000000e+00            0.000000  0.000000e+00  \n25%                   7.000000  0.000000e+00          124.000000  0.000000e+00  \n50%                  11.000000  0.000000e+00          218.400000  0.000000e+00  \n75%                  17.000000  0.000000e+00          429.790000  0.000000e+00  \nmax              149400.000000  1.000000e+00       159292.380000  1.000000e+00  \n\n[8 rows x 53 columns]",
            "text/html": "<div>\n<style scoped>\n    .dataframe tbody tr th:only-of-type {\n        vertical-align: middle;\n    }\n\n    .dataframe tbody tr th {\n        vertical-align: top;\n    }\n\n    .dataframe thead th {\n        text-align: right;\n    }\n</style>\n<table border=\"1\" class=\"dataframe\">\n  <thead>\n    <tr style=\"text-align: right;\">\n      <th></th>\n      <th>srch_id</th>\n      <th>site_id</th>\n      <th>visitor_location_country_id</th>\n      <th>visitor_hist_starrating</th>\n      <th>visitor_hist_adr_usd</th>\n      <th>prop_country_id</th>\n      <th>prop_id</th>\n      <th>prop_starrating</th>\n      <th>prop_review_score</th>\n      <th>prop_brand_bool</th>\n      <th>...</th>\n      <th>comp6_rate_percent_diff</th>\n      <th>comp7_rate</th>\n      <th>comp7_inv</th>\n      <th>comp7_rate_percent_diff</th>\n      <th>comp8_rate</th>\n      <th>comp8_inv</th>\n      <th>comp8_rate_percent_diff</th>\n      <th>click_bool</th>\n      <th>gross_bookings_usd</th>\n      <th>booking_bool</th>\n    </tr>\n  </thead>\n  <tbody>\n    <tr>\n      <th>count</th>\n      <td>4.958347e+06</td>\n      <td>4.958347e+06</td>\n      <td>4.958347e+06</td>\n      <td>251866.000000</td>\n      <td>252988.000000</td>\n      <td>4.958347e+06</td>\n      <td>4.958347e+06</td>\n      <td>4.958347e+06</td>\n      <td>4.950983e+06</td>\n      <td>4.958347e+06</td>\n      <td>...</td>\n      <td>96174.000000</td>\n      <td>315348.000000</td>\n      <td>356422.000000</td>\n      <td>138515.000000</td>\n      <td>1.916654e+06</td>\n      <td>1.987503e+06</td>\n      <td>614730.000000</td>\n      <td>4.958347e+06</td>\n      <td>138390.000000</td>\n      <td>4.958347e+06</td>\n    </tr>\n    <tr>\n      <th>mean</th>\n      <td>1.663666e+05</td>\n      <td>9.953133e+00</td>\n      <td>1.753405e+02</td>\n      <td>3.374334</td>\n      <td>176.022659</td>\n      <td>1.739739e+02</td>\n      <td>7.007918e+04</td>\n      <td>3.180525e+00</td>\n      <td>3.777777e+00</td>\n      <td>6.346994e-01</td>\n      <td>...</td>\n      <td>17.250473</td>\n      <td>0.145969</td>\n      <td>0.083202</td>\n      <td>19.433267</td>\n      <td>-6.089936e-02</td>\n      <td>9.962752e-03</td>\n      <td>22.430384</td>\n      <td>4.474858e-02</td>\n      <td>386.283316</td>\n      <td>2.791051e-02</td>\n    </tr>\n    <tr>\n      <th>std</th>\n      <td>9.611223e+04</td>\n      <td>7.646890e+00</td>\n      <td>6.591625e+01</td>\n      <td>0.692519</td>\n      <td>107.254493</td>\n      <td>6.834525e+01</td>\n      <td>4.060992e+04</td>\n      <td>1.051024e+00</td>\n      <td>1.050329e+00</td>\n      <td>4.815144e-01</td>\n      <td>...</td>\n      <td>31.160313</td>\n      <td>0.578202</td>\n      <td>0.316722</td>\n      <td>54.370221</td>\n      <td>4.691723e-01</td>\n      <td>2.029142e-01</td>\n      <td>895.965854</td>\n      <td>2.067514e-01</td>\n      <td>821.190577</td>\n      <td>1.647165e-01</td>\n    </tr>\n    <tr>\n      <th>min</th>\n      <td>1.000000e+00</td>\n      <td>1.000000e+00</td>\n      <td>1.000000e+00</td>\n      <td>1.410000</td>\n      <td>0.000000</td>\n      <td>1.000000e+00</td>\n      <td>1.000000e+00</td>\n      <td>0.000000e+00</td>\n      <td>0.000000e+00</td>\n      <td>0.000000e+00</td>\n      <td>...</td>\n      <td>2.000000</td>\n      <td>-1.000000</td>\n      <td>-1.000000</td>\n      <td>2.000000</td>\n      <td>-1.000000e+00</td>\n      <td>-1.000000e+00</td>\n      <td>2.000000</td>\n      <td>0.000000e+00</td>\n      <td>0.000000</td>\n      <td>0.000000e+00</td>\n    </tr>\n    <tr>\n      <th>25%</th>\n      <td>8.293600e+04</td>\n      <td>5.000000e+00</td>\n      <td>1.000000e+02</td>\n      <td>2.920000</td>\n      <td>109.810000</td>\n      <td>1.000000e+02</td>\n      <td>3.501000e+04</td>\n      <td>3.000000e+00</td>\n      <td>3.500000e+00</td>\n      <td>0.000000e+00</td>\n      <td>...</td>\n      <td>6.000000</td>\n      <td>0.000000</td>\n      <td>0.000000</td>\n      <td>7.000000</td>\n      <td>0.000000e+00</td>\n      <td>0.000000e+00</td>\n      <td>7.000000</td>\n      <td>0.000000e+00</td>\n      <td>124.000000</td>\n      <td>0.000000e+00</td>\n    </tr>\n    <tr>\n      <th>50%</th>\n      <td>1.665070e+05</td>\n      <td>5.000000e+00</td>\n      <td>2.190000e+02</td>\n      <td>3.450000</td>\n      <td>152.240000</td>\n      <td>2.190000e+02</td>\n      <td>6.963800e+04</td>\n      <td>3.000000e+00</td>\n      <td>4.000000e+00</td>\n      <td>1.000000e+00</td>\n      <td>...</td>\n      <td>11.000000</td>\n      <td>0.000000</td>\n      <td>0.000000</td>\n      <td>12.000000</td>\n      <td>0.000000e+00</td>\n      <td>0.000000e+00</td>\n      <td>11.000000</td>\n      <td>0.000000e+00</td>\n      <td>218.400000</td>\n      <td>0.000000e+00</td>\n    </tr>\n    <tr>\n      <th>75%</th>\n      <td>2.497240e+05</td>\n      <td>1.400000e+01</td>\n      <td>2.190000e+02</td>\n      <td>3.930000</td>\n      <td>213.490000</td>\n      <td>2.190000e+02</td>\n      <td>1.051680e+05</td>\n      <td>4.000000e+00</td>\n      <td>4.500000e+00</td>\n      <td>1.000000e+00</td>\n      <td>...</td>\n      <td>18.000000</td>\n      <td>1.000000</td>\n      <td>0.000000</td>\n      <td>20.000000</td>\n      <td>0.000000e+00</td>\n      <td>0.000000e+00</td>\n      <td>17.000000</td>\n      <td>0.000000e+00</td>\n      <td>429.790000</td>\n      <td>0.000000e+00</td>\n    </tr>\n    <tr>\n      <th>max</th>\n      <td>3.327850e+05</td>\n      <td>3.400000e+01</td>\n      <td>2.310000e+02</td>\n      <td>5.000000</td>\n      <td>1958.700000</td>\n      <td>2.300000e+02</td>\n      <td>1.408210e+05</td>\n      <td>5.000000e+00</td>\n      <td>5.000000e+00</td>\n      <td>1.000000e+00</td>\n      <td>...</td>\n      <td>1620.000000</td>\n      <td>1.000000</td>\n      <td>1.000000</td>\n      <td>9900.000000</td>\n      <td>1.000000e+00</td>\n      <td>1.000000e+00</td>\n      <td>149400.000000</td>\n      <td>1.000000e+00</td>\n      <td>159292.380000</td>\n      <td>1.000000e+00</td>\n    </tr>\n  </tbody>\n</table>\n<p>8 rows × 53 columns</p>\n</div>"
          },
          "metadata": {}
        }
      ],
      "execution_count": 159,
      "metadata": {
        "trusted": true,
        "gather": {
          "logged": 1620572131764
        }
      }
    },
    {
      "cell_type": "code",
      "source": [
        "df.info()"
      ],
      "outputs": [
        {
          "output_type": "stream",
          "name": "stdout",
          "text": [
            "<class 'pandas.core.frame.DataFrame'>\n",
            "RangeIndex: 4958347 entries, 0 to 4958346\n",
            "Data columns (total 55 columns):\n",
            "srch_id                        int64\n",
            "date_time                      datetime64[ns]\n",
            "site_id                        int64\n",
            "visitor_location_country_id    int64\n",
            "visitor_hist_starrating        float64\n",
            "visitor_hist_adr_usd           float64\n",
            "prop_country_id                int64\n",
            "prop_id                        int64\n",
            "prop_starrating                int64\n",
            "prop_review_score              float64\n",
            "prop_brand_bool                int64\n",
            "prop_location_score1           float64\n",
            "prop_location_score2           float64\n",
            "prop_log_historical_price      float64\n",
            "position                       int64\n",
            "price_usd                      float64\n",
            "promotion_flag                 int64\n",
            "srch_destination_id            int64\n",
            "srch_length_of_stay            int64\n",
            "srch_booking_window            int64\n",
            "srch_adults_count              int64\n",
            "srch_children_count            int64\n",
            "srch_room_count                int64\n",
            "srch_saturday_night_bool       int64\n",
            "srch_query_affinity_score      float64\n",
            "orig_destination_distance      float64\n",
            "random_bool                    int64\n",
            "comp1_rate                     float64\n",
            "comp1_inv                      float64\n",
            "comp1_rate_percent_diff        float64\n",
            "comp2_rate                     float64\n",
            "comp2_inv                      float64\n",
            "comp2_rate_percent_diff        float64\n",
            "comp3_rate                     float64\n",
            "comp3_inv                      float64\n",
            "comp3_rate_percent_diff        float64\n",
            "comp4_rate                     float64\n",
            "comp4_inv                      float64\n",
            "comp4_rate_percent_diff        float64\n",
            "comp5_rate                     float64\n",
            "comp5_inv                      float64\n",
            "comp5_rate_percent_diff        float64\n",
            "comp6_rate                     float64\n",
            "comp6_inv                      float64\n",
            "comp6_rate_percent_diff        float64\n",
            "comp7_rate                     float64\n",
            "comp7_inv                      float64\n",
            "comp7_rate_percent_diff        float64\n",
            "comp8_rate                     float64\n",
            "comp8_inv                      float64\n",
            "comp8_rate_percent_diff        float64\n",
            "click_bool                     int64\n",
            "gross_bookings_usd             float64\n",
            "booking_bool                   int64\n",
            "just_date                      object\n",
            "dtypes: datetime64[ns](1), float64(34), int64(19), object(1)\n",
            "memory usage: 2.0+ GB\n"
          ]
        }
      ],
      "execution_count": 49,
      "metadata": {
        "collapsed": true,
        "jupyter": {
          "source_hidden": false,
          "outputs_hidden": false
        },
        "nteract": {
          "transient": {
            "deleting": false
          }
        },
        "gather": {
          "logged": 1620724024458
        }
      }
    },
    {
      "cell_type": "markdown",
      "source": [
        "# Missing values "
      ],
      "metadata": {
        "nteract": {
          "transient": {
            "deleting": false
          }
        }
      }
    },
    {
      "cell_type": "code",
      "source": [
        "# find how many values are missing in the columns\n",
        "missing_values = df.isna().mean().round(4) * 100\n",
        "missing_values = pd.DataFrame(missing_values).reset_index()\n",
        "\n",
        "# rename\n",
        "missing_values.columns = [\"column\", \"missing\"]\n",
        "# filter where there are missing values\n",
        "missing_values.query(\"missing > 0\", inplace=True)"
      ],
      "outputs": [],
      "execution_count": 51,
      "metadata": {
        "collapsed": true,
        "jupyter": {
          "source_hidden": false,
          "outputs_hidden": false
        },
        "nteract": {
          "transient": {
            "deleting": false
          }
        },
        "gather": {
          "logged": 1620724327175
        }
      }
    },
    {
      "cell_type": "code",
      "source": [
        "# to latex table\n",
        "print(missing_values.to_latex(index=False))"
      ],
      "outputs": [
        {
          "output_type": "stream",
          "name": "stdout",
          "text": [
            "\\begin{tabular}{lr}\n",
            "\\toprule\n",
            "                    column &  missing \\\\\n",
            "\\midrule\n",
            "   visitor\\_hist\\_starrating &    94.92 \\\\\n",
            "      visitor\\_hist\\_adr\\_usd &    94.90 \\\\\n",
            "         prop\\_review\\_score &     0.15 \\\\\n",
            "      prop\\_location\\_score2 &    21.99 \\\\\n",
            " srch\\_query\\_affinity\\_score &    93.60 \\\\\n",
            " orig\\_destination\\_distance &    32.43 \\\\\n",
            "                comp1\\_rate &    97.58 \\\\\n",
            "                 comp1\\_inv &    97.39 \\\\\n",
            "   comp1\\_rate\\_percent\\_diff &    98.10 \\\\\n",
            "                comp2\\_rate &    59.17 \\\\\n",
            "                 comp2\\_inv &    57.04 \\\\\n",
            "   comp2\\_rate\\_percent\\_diff &    88.78 \\\\\n",
            "                comp3\\_rate &    69.06 \\\\\n",
            "                 comp3\\_inv &    66.70 \\\\\n",
            "   comp3\\_rate\\_percent\\_diff &    90.46 \\\\\n",
            "                comp4\\_rate &    93.80 \\\\\n",
            "                 comp4\\_inv &    93.07 \\\\\n",
            "   comp4\\_rate\\_percent\\_diff &    97.36 \\\\\n",
            "                comp5\\_rate &    55.18 \\\\\n",
            "                 comp5\\_inv &    52.40 \\\\\n",
            "   comp5\\_rate\\_percent\\_diff &    83.04 \\\\\n",
            "                comp6\\_rate &    95.16 \\\\\n",
            "                 comp6\\_inv &    94.74 \\\\\n",
            "   comp6\\_rate\\_percent\\_diff &    98.06 \\\\\n",
            "                comp7\\_rate &    93.64 \\\\\n",
            "                 comp7\\_inv &    92.81 \\\\\n",
            "   comp7\\_rate\\_percent\\_diff &    97.21 \\\\\n",
            "                comp8\\_rate &    61.34 \\\\\n",
            "                 comp8\\_inv &    59.92 \\\\\n",
            "   comp8\\_rate\\_percent\\_diff &    87.60 \\\\\n",
            "        gross\\_bookings\\_usd &    97.21 \\\\\n",
            "\\bottomrule\n",
            "\\end{tabular}\n",
            "\n"
          ]
        }
      ],
      "execution_count": 52,
      "metadata": {
        "collapsed": true,
        "jupyter": {
          "source_hidden": false,
          "outputs_hidden": false
        },
        "nteract": {
          "transient": {
            "deleting": false
          }
        },
        "gather": {
          "logged": 1620724329307
        }
      }
    },
    {
      "cell_type": "code",
      "source": [
        "# sort data\n",
        "\n",
        "missing_values.sort_values(\"missing\", inplace=True)\n",
        "\n",
        "# plot\n",
        "\n",
        "sns.set(rc={'figure.figsize':(12,4.5)})\n",
        "\n",
        "plot=sns.barplot(data = missing_values,\n",
        "            x = \"column\",\n",
        "            y = \"missing\",\n",
        "            palette=\"twilight\")\n",
        "plt.xticks(rotation=90, size = 12)\n",
        "plt.yticks(size = 12)\n",
        "plt.axhline(y=90, color='grey', linestyle='--', linewidth=1)\n",
        "plot.set_ylabel('Missing (%)', size = 15)    \n",
        "plot.set_xlabel('')\n",
        "plt.tight_layout()\n",
        "plt.show() "
      ],
      "outputs": [
        {
          "output_type": "display_data",
          "data": {
            "text/plain": "<Figure size 864x324 with 1 Axes>",
            "image/png": "[encoded data removed]"
          },
          "metadata": {}
        }
      ],
      "execution_count": 53,
      "metadata": {
        "collapsed": true,
        "jupyter": {
          "source_hidden": false,
          "outputs_hidden": false
        },
        "nteract": {
          "transient": {
            "deleting": false
          }
        },
        "gather": {
          "logged": 1620724333530
        }
      }
    },
    {
      "cell_type": "code",
      "source": [
        "missing_values"
      ],
      "outputs": [
        {
          "output_type": "execute_result",
          "execution_count": 63,
          "data": {
            "text/plain": "                       column  missing\n9           prop_review_score     0.15\n12       prop_location_score2    21.99\n25  orig_destination_distance    32.43\n40                  comp5_inv    52.40\n39                 comp5_rate    55.18\n31                  comp2_inv    57.04\n30                 comp2_rate    59.17\n49                  comp8_inv    59.92\n48                 comp8_rate    61.34\n34                  comp3_inv    66.70\n33                 comp3_rate    69.06\n41    comp5_rate_percent_diff    83.04\n50    comp8_rate_percent_diff    87.60\n32    comp2_rate_percent_diff    88.78\n35    comp3_rate_percent_diff    90.46\n46                  comp7_inv    92.81\n37                  comp4_inv    93.07\n24  srch_query_affinity_score    93.60\n45                 comp7_rate    93.64\n36                 comp4_rate    93.80\n43                  comp6_inv    94.74\n5        visitor_hist_adr_usd    94.90\n4     visitor_hist_starrating    94.92\n42                 comp6_rate    95.16\n47    comp7_rate_percent_diff    97.21\n52         gross_bookings_usd    97.21\n38    comp4_rate_percent_diff    97.36\n28                  comp1_inv    97.39\n27                 comp1_rate    97.58\n44    comp6_rate_percent_diff    98.06\n29    comp1_rate_percent_diff    98.10",
            "text/html": "<div>\n<style scoped>\n    .dataframe tbody tr th:only-of-type {\n        vertical-align: middle;\n    }\n\n    .dataframe tbody tr th {\n        vertical-align: top;\n    }\n\n    .dataframe thead th {\n        text-align: right;\n    }\n</style>\n<table border=\"1\" class=\"dataframe\">\n  <thead>\n    <tr style=\"text-align: right;\">\n      <th></th>\n      <th>column</th>\n      <th>missing</th>\n    </tr>\n  </thead>\n  <tbody>\n    <tr>\n      <th>9</th>\n      <td>prop_review_score</td>\n      <td>0.15</td>\n    </tr>\n    <tr>\n      <th>12</th>\n      <td>prop_location_score2</td>\n      <td>21.99</td>\n    </tr>\n    <tr>\n      <th>25</th>\n      <td>orig_destination_distance</td>\n      <td>32.43</td>\n    </tr>\n    <tr>\n      <th>40</th>\n      <td>comp5_inv</td>\n      <td>52.40</td>\n    </tr>\n    <tr>\n      <th>39</th>\n      <td>comp5_rate</td>\n      <td>55.18</td>\n    </tr>\n    <tr>\n      <th>31</th>\n      <td>comp2_inv</td>\n      <td>57.04</td>\n    </tr>\n    <tr>\n      <th>30</th>\n      <td>comp2_rate</td>\n      <td>59.17</td>\n    </tr>\n    <tr>\n      <th>49</th>\n      <td>comp8_inv</td>\n      <td>59.92</td>\n    </tr>\n    <tr>\n      <th>48</th>\n      <td>comp8_rate</td>\n      <td>61.34</td>\n    </tr>\n    <tr>\n      <th>34</th>\n      <td>comp3_inv</td>\n      <td>66.70</td>\n    </tr>\n    <tr>\n      <th>33</th>\n      <td>comp3_rate</td>\n      <td>69.06</td>\n    </tr>\n    <tr>\n      <th>41</th>\n      <td>comp5_rate_percent_diff</td>\n      <td>83.04</td>\n    </tr>\n    <tr>\n      <th>50</th>\n      <td>comp8_rate_percent_diff</td>\n      <td>87.60</td>\n    </tr>\n    <tr>\n      <th>32</th>\n      <td>comp2_rate_percent_diff</td>\n      <td>88.78</td>\n    </tr>\n    <tr>\n      <th>35</th>\n      <td>comp3_rate_percent_diff</td>\n      <td>90.46</td>\n    </tr>\n    <tr>\n      <th>46</th>\n      <td>comp7_inv</td>\n      <td>92.81</td>\n    </tr>\n    <tr>\n      <th>37</th>\n      <td>comp4_inv</td>\n      <td>93.07</td>\n    </tr>\n    <tr>\n      <th>24</th>\n      <td>srch_query_affinity_score</td>\n      <td>93.60</td>\n    </tr>\n    <tr>\n      <th>45</th>\n      <td>comp7_rate</td>\n      <td>93.64</td>\n    </tr>\n    <tr>\n      <th>36</th>\n      <td>comp4_rate</td>\n      <td>93.80</td>\n    </tr>\n    <tr>\n      <th>43</th>\n      <td>comp6_inv</td>\n      <td>94.74</td>\n    </tr>\n    <tr>\n      <th>5</th>\n      <td>visitor_hist_adr_usd</td>\n      <td>94.90</td>\n    </tr>\n    <tr>\n      <th>4</th>\n      <td>visitor_hist_starrating</td>\n      <td>94.92</td>\n    </tr>\n    <tr>\n      <th>42</th>\n      <td>comp6_rate</td>\n      <td>95.16</td>\n    </tr>\n    <tr>\n      <th>47</th>\n      <td>comp7_rate_percent_diff</td>\n      <td>97.21</td>\n    </tr>\n    <tr>\n      <th>52</th>\n      <td>gross_bookings_usd</td>\n      <td>97.21</td>\n    </tr>\n    <tr>\n      <th>38</th>\n      <td>comp4_rate_percent_diff</td>\n      <td>97.36</td>\n    </tr>\n    <tr>\n      <th>28</th>\n      <td>comp1_inv</td>\n      <td>97.39</td>\n    </tr>\n    <tr>\n      <th>27</th>\n      <td>comp1_rate</td>\n      <td>97.58</td>\n    </tr>\n    <tr>\n      <th>44</th>\n      <td>comp6_rate_percent_diff</td>\n      <td>98.06</td>\n    </tr>\n    <tr>\n      <th>29</th>\n      <td>comp1_rate_percent_diff</td>\n      <td>98.10</td>\n    </tr>\n  </tbody>\n</table>\n</div>"
          },
          "metadata": {}
        }
      ],
      "execution_count": 63,
      "metadata": {
        "collapsed": true,
        "jupyter": {
          "source_hidden": false,
          "outputs_hidden": false
        },
        "nteract": {
          "transient": {
            "deleting": false
          }
        },
        "gather": {
          "logged": 1620724751292
        }
      }
    },
    {
      "cell_type": "code",
      "source": [
        "len(missing_values)"
      ],
      "outputs": [
        {
          "output_type": "execute_result",
          "execution_count": 55,
          "data": {
            "text/plain": "31"
          },
          "metadata": {}
        }
      ],
      "execution_count": 55,
      "metadata": {
        "collapsed": true,
        "jupyter": {
          "source_hidden": false,
          "outputs_hidden": false
        },
        "nteract": {
          "transient": {
            "deleting": false
          }
        },
        "gather": {
          "logged": 1620724345916
        }
      }
    },
    {
      "cell_type": "code",
      "source": [
        "#reset\n",
        "plt.rc('ytick', labelsize=25)"
      ],
      "outputs": [],
      "execution_count": null,
      "metadata": {
        "collapsed": true,
        "jupyter": {
          "source_hidden": false,
          "outputs_hidden": false
        },
        "nteract": {
          "transient": {
            "deleting": false
          }
        }
      }
    },
    {
      "cell_type": "code",
      "source": [
        "# check how many columns have missing values in test data\n",
        "\n",
        "df_test = pd.read_csv(\"test_set_VU_DM.csv\")\n",
        "\n",
        "# find how many values are missing in the columns\n",
        "missing_values_test = df_test.isna().mean().round(4) * 100\n",
        "missing_values_test = pd.DataFrame(missing_values_test).reset_index()\n",
        "\n",
        "# rename\n",
        "missing_values_test.columns = [\"column\", \"missing\"]\n",
        "# filter where there are missing values\n",
        "missing_values_test.query(\"missing > 0\", inplace=True)\n",
        "\n"
      ],
      "outputs": [],
      "execution_count": 56,
      "metadata": {
        "collapsed": true,
        "jupyter": {
          "source_hidden": false,
          "outputs_hidden": false
        },
        "nteract": {
          "transient": {
            "deleting": false
          }
        },
        "gather": {
          "logged": 1620724479676
        }
      }
    },
    {
      "cell_type": "code",
      "source": [
        "missing_values_test.sort_values(\"missing\", inplace=True)\n",
        "missing_values_test"
      ],
      "outputs": [
        {
          "output_type": "execute_result",
          "execution_count": 62,
          "data": {
            "text/plain": "                       column  missing\n9           prop_review_score     0.15\n12       prop_location_score2    21.94\n24  orig_destination_distance    32.44\n39                  comp5_inv    52.40\n38                 comp5_rate    55.20\n30                  comp2_inv    57.23\n29                 comp2_rate    59.35\n48                  comp8_inv    60.22\n47                 comp8_rate    61.64\n33                  comp3_inv    66.91\n32                 comp3_rate    69.25\n40    comp5_rate_percent_diff    83.06\n49    comp8_rate_percent_diff    87.68\n31    comp2_rate_percent_diff    88.84\n34    comp3_rate_percent_diff    90.50\n45                  comp7_inv    92.81\n36                  comp4_inv    92.97\n23  srch_query_affinity_score    93.58\n44                 comp7_rate    93.63\n35                 comp4_rate    93.69\n42                  comp6_inv    94.69\n5        visitor_hist_adr_usd    94.87\n4     visitor_hist_starrating    94.89\n41                 comp6_rate    95.11\n46    comp7_rate_percent_diff    97.19\n37    comp4_rate_percent_diff    97.32\n27                  comp1_inv    97.48\n26                 comp1_rate    97.66\n43    comp6_rate_percent_diff    98.04\n28    comp1_rate_percent_diff    98.18",
            "text/html": "<div>\n<style scoped>\n    .dataframe tbody tr th:only-of-type {\n        vertical-align: middle;\n    }\n\n    .dataframe tbody tr th {\n        vertical-align: top;\n    }\n\n    .dataframe thead th {\n        text-align: right;\n    }\n</style>\n<table border=\"1\" class=\"dataframe\">\n  <thead>\n    <tr style=\"text-align: right;\">\n      <th></th>\n      <th>column</th>\n      <th>missing</th>\n    </tr>\n  </thead>\n  <tbody>\n    <tr>\n      <th>9</th>\n      <td>prop_review_score</td>\n      <td>0.15</td>\n    </tr>\n    <tr>\n      <th>12</th>\n      <td>prop_location_score2</td>\n      <td>21.94</td>\n    </tr>\n    <tr>\n      <th>24</th>\n      <td>orig_destination_distance</td>\n      <td>32.44</td>\n    </tr>\n    <tr>\n      <th>39</th>\n      <td>comp5_inv</td>\n      <td>52.40</td>\n    </tr>\n    <tr>\n      <th>38</th>\n      <td>comp5_rate</td>\n      <td>55.20</td>\n    </tr>\n    <tr>\n      <th>30</th>\n      <td>comp2_inv</td>\n      <td>57.23</td>\n    </tr>\n    <tr>\n      <th>29</th>\n      <td>comp2_rate</td>\n      <td>59.35</td>\n    </tr>\n    <tr>\n      <th>48</th>\n      <td>comp8_inv</td>\n      <td>60.22</td>\n    </tr>\n    <tr>\n      <th>47</th>\n      <td>comp8_rate</td>\n      <td>61.64</td>\n    </tr>\n    <tr>\n      <th>33</th>\n      <td>comp3_inv</td>\n      <td>66.91</td>\n    </tr>\n    <tr>\n      <th>32</th>\n      <td>comp3_rate</td>\n      <td>69.25</td>\n    </tr>\n    <tr>\n      <th>40</th>\n      <td>comp5_rate_percent_diff</td>\n      <td>83.06</td>\n    </tr>\n    <tr>\n      <th>49</th>\n      <td>comp8_rate_percent_diff</td>\n      <td>87.68</td>\n    </tr>\n    <tr>\n      <th>31</th>\n      <td>comp2_rate_percent_diff</td>\n      <td>88.84</td>\n    </tr>\n    <tr>\n      <th>34</th>\n      <td>comp3_rate_percent_diff</td>\n      <td>90.50</td>\n    </tr>\n    <tr>\n      <th>45</th>\n      <td>comp7_inv</td>\n      <td>92.81</td>\n    </tr>\n    <tr>\n      <th>36</th>\n      <td>comp4_inv</td>\n      <td>92.97</td>\n    </tr>\n    <tr>\n      <th>23</th>\n      <td>srch_query_affinity_score</td>\n      <td>93.58</td>\n    </tr>\n    <tr>\n      <th>44</th>\n      <td>comp7_rate</td>\n      <td>93.63</td>\n    </tr>\n    <tr>\n      <th>35</th>\n      <td>comp4_rate</td>\n      <td>93.69</td>\n    </tr>\n    <tr>\n      <th>42</th>\n      <td>comp6_inv</td>\n      <td>94.69</td>\n    </tr>\n    <tr>\n      <th>5</th>\n      <td>visitor_hist_adr_usd</td>\n      <td>94.87</td>\n    </tr>\n    <tr>\n      <th>4</th>\n      <td>visitor_hist_starrating</td>\n      <td>94.89</td>\n    </tr>\n    <tr>\n      <th>41</th>\n      <td>comp6_rate</td>\n      <td>95.11</td>\n    </tr>\n    <tr>\n      <th>46</th>\n      <td>comp7_rate_percent_diff</td>\n      <td>97.19</td>\n    </tr>\n    <tr>\n      <th>37</th>\n      <td>comp4_rate_percent_diff</td>\n      <td>97.32</td>\n    </tr>\n    <tr>\n      <th>27</th>\n      <td>comp1_inv</td>\n      <td>97.48</td>\n    </tr>\n    <tr>\n      <th>26</th>\n      <td>comp1_rate</td>\n      <td>97.66</td>\n    </tr>\n    <tr>\n      <th>43</th>\n      <td>comp6_rate_percent_diff</td>\n      <td>98.04</td>\n    </tr>\n    <tr>\n      <th>28</th>\n      <td>comp1_rate_percent_diff</td>\n      <td>98.18</td>\n    </tr>\n  </tbody>\n</table>\n</div>"
          },
          "metadata": {}
        }
      ],
      "execution_count": 62,
      "metadata": {
        "collapsed": true,
        "jupyter": {
          "source_hidden": false,
          "outputs_hidden": false
        },
        "nteract": {
          "transient": {
            "deleting": false
          }
        },
        "gather": {
          "logged": 1620724685465
        }
      }
    },
    {
      "cell_type": "markdown",
      "source": [
        "# Overview stats"
      ],
      "metadata": {
        "nteract": {
          "transient": {
            "deleting": false
          }
        }
      }
    },
    {
      "cell_type": "markdown",
      "source": [
        "## srch_id"
      ],
      "metadata": {
        "nteract": {
          "transient": {
            "deleting": false
          }
        }
      }
    },
    {
      "cell_type": "code",
      "source": [
        "len(np.unique(df.srch_id))"
      ],
      "outputs": [
        {
          "output_type": "execute_result",
          "execution_count": 162,
          "data": {
            "text/plain": "199795"
          },
          "metadata": {}
        }
      ],
      "execution_count": 162,
      "metadata": {
        "collapsed": true,
        "jupyter": {
          "source_hidden": false,
          "outputs_hidden": false
        },
        "nteract": {
          "transient": {
            "deleting": false
          }
        },
        "gather": {
          "logged": 1620642263226
        }
      }
    },
    {
      "cell_type": "code",
      "source": [
        "counts = df.groupby(\"srch_id\").size().reset_index()\n",
        "\n",
        "np.max(counts.iloc[:,1])"
      ],
      "outputs": [
        {
          "output_type": "execute_result",
          "execution_count": 173,
          "data": {
            "text/plain": "38"
          },
          "metadata": {}
        }
      ],
      "execution_count": 173,
      "metadata": {
        "collapsed": true,
        "jupyter": {
          "source_hidden": false,
          "outputs_hidden": false
        },
        "nteract": {
          "transient": {
            "deleting": false
          }
        },
        "gather": {
          "logged": 1620642428056
        }
      }
    },
    {
      "cell_type": "markdown",
      "source": [
        "## random_bool"
      ],
      "metadata": {
        "nteract": {
          "transient": {
            "deleting": false
          }
        }
      }
    },
    {
      "cell_type": "code",
      "source": [
        "df.groupby(\"random_bool\").size()"
      ],
      "outputs": [
        {
          "output_type": "execute_result",
          "execution_count": 174,
          "data": {
            "text/plain": "random_bool\n0    3491170\n1    1467177\ndtype: int64"
          },
          "metadata": {}
        }
      ],
      "execution_count": 174,
      "metadata": {
        "collapsed": true,
        "jupyter": {
          "source_hidden": false,
          "outputs_hidden": false
        },
        "nteract": {
          "transient": {
            "deleting": false
          }
        },
        "gather": {
          "logged": 1620642600789
        }
      }
    },
    {
      "cell_type": "code",
      "source": [
        "df.groupby(\"random_bool\")[\"booking_bool\"].mean()"
      ],
      "outputs": [
        {
          "output_type": "execute_result",
          "execution_count": 175,
          "data": {
            "text/plain": "random_bool\n0    0.037402\n1    0.005325\nName: booking_bool, dtype: float64"
          },
          "metadata": {}
        }
      ],
      "execution_count": 175,
      "metadata": {
        "collapsed": true,
        "jupyter": {
          "source_hidden": false,
          "outputs_hidden": false
        },
        "nteract": {
          "transient": {
            "deleting": false
          }
        },
        "gather": {
          "logged": 1620643236796
        }
      }
    },
    {
      "cell_type": "code",
      "source": [
        "df.groupby(\"random_bool\")[\"click_bool\"].mean()"
      ],
      "outputs": [
        {
          "output_type": "execute_result",
          "execution_count": 177,
          "data": {
            "text/plain": "random_bool\n0    0.043969\n1    0.046604\nName: click_bool, dtype: float64"
          },
          "metadata": {}
        }
      ],
      "execution_count": 177,
      "metadata": {
        "collapsed": true,
        "jupyter": {
          "source_hidden": false,
          "outputs_hidden": false
        },
        "nteract": {
          "transient": {
            "deleting": false
          }
        },
        "gather": {
          "logged": 1620643360573
        }
      }
    },
    {
      "cell_type": "markdown",
      "source": [
        "## date_time"
      ],
      "metadata": {
        "nteract": {
          "transient": {
            "deleting": false
          }
        }
      }
    },
    {
      "cell_type": "code",
      "source": [
        "df['just_date'] = df['date_time'].dt.date\n",
        "\n",
        "date_stats = df.groupby('just_date').size().reset_index()\n",
        "#date_stats.to_csv(\"data_dates.csv\")"
      ],
      "outputs": [],
      "execution_count": 6,
      "metadata": {
        "collapsed": true,
        "jupyter": {
          "source_hidden": false,
          "outputs_hidden": false
        },
        "nteract": {
          "transient": {
            "deleting": false
          }
        },
        "gather": {
          "logged": 1620645362748
        }
      }
    },
    {
      "cell_type": "markdown",
      "source": [
        "## promotion_flag"
      ],
      "metadata": {
        "nteract": {
          "transient": {
            "deleting": false
          }
        }
      }
    },
    {
      "cell_type": "code",
      "source": [
        "df.groupby(\"promotion_flag\")[\"click_bool\"].mean()*100"
      ],
      "outputs": [
        {
          "output_type": "execute_result",
          "execution_count": 12,
          "data": {
            "text/plain": "promotion_flag\n0    4.047332\n1    6.030111\nName: click_bool, dtype: float64"
          },
          "metadata": {}
        }
      ],
      "execution_count": 12,
      "metadata": {
        "collapsed": true,
        "jupyter": {
          "source_hidden": false,
          "outputs_hidden": false
        },
        "nteract": {
          "transient": {
            "deleting": false
          }
        },
        "gather": {
          "logged": 1620649058841
        }
      }
    },
    {
      "cell_type": "code",
      "source": [
        "df.groupby(\"promotion_flag\")[\"booking_bool\"].mean()*100"
      ],
      "outputs": [
        {
          "output_type": "execute_result",
          "execution_count": 13,
          "data": {
            "text/plain": "promotion_flag\n0    2.479746\n1    3.923515\nName: booking_bool, dtype: float64"
          },
          "metadata": {}
        }
      ],
      "execution_count": 13,
      "metadata": {
        "collapsed": true,
        "jupyter": {
          "source_hidden": false,
          "outputs_hidden": false
        },
        "nteract": {
          "transient": {
            "deleting": false
          }
        },
        "gather": {
          "logged": 1620649065168
        }
      }
    },
    {
      "cell_type": "code",
      "source": [
        "df.groupby(\"promotion_flag\").size()"
      ],
      "outputs": [
        {
          "output_type": "execute_result",
          "execution_count": 11,
          "data": {
            "text/plain": "promotion_flag\n0    3889229\n1    1069118\ndtype: int64"
          },
          "metadata": {}
        }
      ],
      "execution_count": 11,
      "metadata": {
        "collapsed": true,
        "jupyter": {
          "source_hidden": false,
          "outputs_hidden": false
        },
        "nteract": {
          "transient": {
            "deleting": false
          }
        },
        "gather": {
          "logged": 1620648902740
        }
      }
    },
    {
      "cell_type": "markdown",
      "source": [
        "## prop_brand_bool"
      ],
      "metadata": {
        "nteract": {
          "transient": {
            "deleting": false
          }
        }
      }
    },
    {
      "cell_type": "code",
      "source": [
        "df.groupby(\"prop_brand_bool\")[\"click_bool\"].mean()*100"
      ],
      "outputs": [
        {
          "output_type": "execute_result",
          "execution_count": 14,
          "data": {
            "text/plain": "prop_brand_bool\n0    4.451255\n1    4.488443\nName: click_bool, dtype: float64"
          },
          "metadata": {}
        }
      ],
      "execution_count": 14,
      "metadata": {
        "collapsed": true,
        "jupyter": {
          "source_hidden": false,
          "outputs_hidden": false
        },
        "nteract": {
          "transient": {
            "deleting": false
          }
        },
        "gather": {
          "logged": 1620649488055
        }
      }
    },
    {
      "cell_type": "code",
      "source": [
        "df.groupby(\"prop_brand_bool\")[\"booking_bool\"].mean()*100"
      ],
      "outputs": [
        {
          "output_type": "execute_result",
          "execution_count": 15,
          "data": {
            "text/plain": "prop_brand_bool\n0    2.574137\n1    2.915896\nName: booking_bool, dtype: float64"
          },
          "metadata": {}
        }
      ],
      "execution_count": 15,
      "metadata": {
        "collapsed": true,
        "jupyter": {
          "source_hidden": false,
          "outputs_hidden": false
        },
        "nteract": {
          "transient": {
            "deleting": false
          }
        },
        "gather": {
          "logged": 1620649491111
        }
      }
    },
    {
      "cell_type": "code",
      "source": [
        "df.groupby(\"prop_brand_bool\").size()"
      ],
      "outputs": [
        {
          "output_type": "execute_result",
          "execution_count": 16,
          "data": {
            "text/plain": "prop_brand_bool\n0    1811287\n1    3147060\ndtype: int64"
          },
          "metadata": {}
        }
      ],
      "execution_count": 16,
      "metadata": {
        "collapsed": true,
        "jupyter": {
          "source_hidden": false,
          "outputs_hidden": false
        },
        "nteract": {
          "transient": {
            "deleting": false
          }
        },
        "gather": {
          "logged": 1620649514691
        }
      }
    },
    {
      "cell_type": "markdown",
      "source": [
        "## click_bool and booking_bool"
      ],
      "metadata": {
        "nteract": {
          "transient": {
            "deleting": false
          }
        }
      }
    },
    {
      "cell_type": "code",
      "source": [
        "df[\"click_bool\"].mean()*100"
      ],
      "outputs": [
        {
          "output_type": "execute_result",
          "execution_count": 17,
          "data": {
            "text/plain": "4.474858254172207"
          },
          "metadata": {}
        }
      ],
      "execution_count": 17,
      "metadata": {
        "collapsed": true,
        "jupyter": {
          "source_hidden": false,
          "outputs_hidden": false
        },
        "nteract": {
          "transient": {
            "deleting": false
          }
        },
        "gather": {
          "logged": 1620649775194
        }
      }
    },
    {
      "cell_type": "code",
      "source": [
        "df[\"booking_bool\"].mean()*100"
      ],
      "outputs": [
        {
          "output_type": "execute_result",
          "execution_count": 18,
          "data": {
            "text/plain": "2.7910511305481442"
          },
          "metadata": {}
        }
      ],
      "execution_count": 18,
      "metadata": {
        "collapsed": true,
        "jupyter": {
          "source_hidden": false,
          "outputs_hidden": false
        },
        "nteract": {
          "transient": {
            "deleting": false
          }
        },
        "gather": {
          "logged": 1620649799843
        }
      }
    },
    {
      "cell_type": "markdown",
      "source": [
        "# Numerical distributions"
      ],
      "metadata": {
        "nteract": {
          "transient": {
            "deleting": false
          }
        }
      }
    },
    {
      "cell_type": "code",
      "source": [
        "sns.set(rc={'figure.figsize':(12,4.5)})\n",
        "columns_of_interest = [\"prop_location_score1\", \"prop_location_score2\", \"prop_log_historical_price\", \"orig_destination_distance\", \n",
        "                       \"price_usd\", \"srch_length_of_stay\", \"srch_booking_window\"] #\"orig_destination_distance\"] #\"srch_adults_count\",\n",
        "                        #\"srch_children_count\" , \"srch_room_count\", \"orig_destination_distance\"]\n",
        "g = sns.boxplot(data=df[columns_of_interest], orient=\"h\", palette=\"twilight\")\n",
        "g.set_xscale(\"log\")\n",
        "plt.xticks(size = 15)\n",
        "plt.yticks(size = 15)"
      ],
      "outputs": [
        {
          "output_type": "execute_result",
          "execution_count": 48,
          "data": {
            "text/plain": "(array([0, 1, 2, 3, 4, 5, 6]), <a list of 7 Text major ticklabel objects>)"
          },
          "metadata": {}
        },
        {
          "output_type": "display_data",
          "data": {
            "text/plain": "<Figure size 864x324 with 1 Axes>",
            "image/png": "[encoded data removed]"
          },
          "metadata": {}
        }
      ],
      "execution_count": 48,
      "metadata": {
        "collapsed": true,
        "jupyter": {
          "source_hidden": false,
          "outputs_hidden": false
        },
        "nteract": {
          "transient": {
            "deleting": false
          }
        },
        "gather": {
          "logged": 1620659715851
        }
      }
    },
    {
      "cell_type": "code",
      "source": [
        "print(np.min(df.price_usd))\n",
        "print(np.max(df.price_usd))"
      ],
      "outputs": [
        {
          "output_type": "stream",
          "name": "stdout",
          "text": [
            "0.0\n",
            "19726328.0\n"
          ]
        }
      ],
      "execution_count": 47,
      "metadata": {
        "collapsed": true,
        "jupyter": {
          "source_hidden": false,
          "outputs_hidden": false
        },
        "nteract": {
          "transient": {
            "deleting": false
          }
        },
        "gather": {
          "logged": 1620656756101
        }
      }
    },
    {
      "cell_type": "markdown",
      "source": [
        "# Effect of position"
      ],
      "metadata": {
        "nteract": {
          "transient": {
            "deleting": false
          }
        }
      }
    },
    {
      "cell_type": "code",
      "source": [
        "# choose the columns we need\n",
        "columns_interest = [\"position\", \"booking_bool\", \"click_bool\", \"random_bool\"]\n",
        "positions_df = df[columns_interest]"
      ],
      "outputs": [],
      "execution_count": 49,
      "metadata": {
        "collapsed": true,
        "jupyter": {
          "source_hidden": false,
          "outputs_hidden": false
        },
        "nteract": {
          "transient": {
            "deleting": false
          }
        },
        "gather": {
          "logged": 1620742262566
        }
      }
    },
    {
      "cell_type": "code",
      "source": [
        "effect_position = positions_df.groupby([\"position\", \"random_bool\"]).mean().reset_index()"
      ],
      "outputs": [],
      "execution_count": 50,
      "metadata": {
        "collapsed": true,
        "jupyter": {
          "source_hidden": false,
          "outputs_hidden": false
        },
        "nteract": {
          "transient": {
            "deleting": false
          }
        },
        "gather": {
          "logged": 1620742265113
        }
      }
    },
    {
      "cell_type": "code",
      "source": [
        "fig, axes = plt.subplots(1, 2, figsize=(20, 5), sharey = True)\n",
        "\n",
        "# Bulbasaur\n",
        "sns.lineplot(data=effect_position, \n",
        "             x=\"position\", \n",
        "             y=\"booking_bool\", \n",
        "             hue = \"random_bool\",\n",
        "             linewidth = line_width,\n",
        "             ax = axes[0])\n",
        "\n",
        "# Charmander\n",
        "sns.lineplot(data=effect_position, \n",
        "             x=\"position\", \n",
        "             y=\"click_bool\", \n",
        "             hue = \"random_bool\",\n",
        "             linewidth = line_width,\n",
        "             ax = axes[1])\n",
        "\n",
        "plt.tight_layout()\n",
        "\n",
        "axes[0].set_title('Booked', size = text_size)\n",
        "axes[0].set_xlabel('Position', size = text_size) \n",
        "axes[0].set_ylabel('Fraction', size = text_size)\n",
        "axes[0].get_legend().remove() \n",
        "axes[1].set_title('Clicked', size = text_size)\n",
        "axes[1].set_xlabel('Position', size = text_size) \n",
        "axes[1].set_ylabel('% booked', size = text_size)\n",
        "axes[1].legend(title = \"random_bool\", fontsize=text_size, title_fontsize=text_size)"
      ],
      "outputs": [
        {
          "output_type": "execute_result",
          "execution_count": 51,
          "data": {
            "text/plain": "<matplotlib.legend.Legend at 0x7fade3d42b00>"
          },
          "metadata": {}
        },
        {
          "output_type": "display_data",
          "data": {
            "text/plain": "<Figure size 1440x360 with 2 Axes>",
            "image/png": "[encoded data removed]"
          },
          "metadata": {}
        }
      ],
      "execution_count": 51,
      "metadata": {
        "collapsed": true,
        "jupyter": {
          "source_hidden": false,
          "outputs_hidden": false
        },
        "nteract": {
          "transient": {
            "deleting": false
          }
        },
        "gather": {
          "logged": 1620742306160
        }
      }
    },
    {
      "cell_type": "code",
      "source": [
        "effect_position[effect_position.random_bool == 0]"
      ],
      "outputs": [
        {
          "output_type": "execute_result",
          "execution_count": 9,
          "data": {
            "text/plain": "    position  random_bool  booking_bool  click_bool\n0          1            0      0.194377    0.215201\n2          2            0      0.129348    0.145862\n4          3            0      0.096330    0.110695\n6          4            0      0.079510    0.092075\n8          5            0      0.011763    0.017885\n10         6            0      0.060947    0.071682\n12         7            0      0.051082    0.060645\n14         8            0      0.043596    0.052137\n16         9            0      0.036805    0.044301\n18        10            0      0.034845    0.041991\n20        11            0      0.003899    0.007992\n22        12            0      0.028508    0.034484\n24        13            0      0.025206    0.031310\n26        14            0      0.022415    0.027738\n28        15            0      0.021545    0.026836\n30        16            0      0.020221    0.025020\n32        17            0      0.001544    0.004342\n34        18            0      0.017304    0.021896\n36        19            0      0.015696    0.019758\n38        20            0      0.014389    0.018194\n40        21            0      0.013231    0.017079\n42        22            0      0.012673    0.016386\n44        23            0      0.001111    0.003031\n46        24            0      0.011575    0.014852\n48        25            0      0.010812    0.013753\n50        26            0      0.009882    0.012624\n52        27            0      0.009777    0.012553\n54        28            0      0.008666    0.011378\n56        29            0      0.008342    0.010711\n58        30            0      0.008132    0.010640\n60        31            0      0.007559    0.009731\n62        32            0      0.006731    0.008996\n64        33            0      0.006577    0.008531\n66        34            0      0.006623    0.008779\n68        35            0      0.006114    0.008242\n70        36            0      0.005924    0.007314\n72        37            0      0.005901    0.007701\n74        38            0      0.006886    0.008577\n76        39            0      0.005068    0.007601\n78        40            0      0.020000    0.020000",
            "text/html": "<div>\n<style scoped>\n    .dataframe tbody tr th:only-of-type {\n        vertical-align: middle;\n    }\n\n    .dataframe tbody tr th {\n        vertical-align: top;\n    }\n\n    .dataframe thead th {\n        text-align: right;\n    }\n</style>\n<table border=\"1\" class=\"dataframe\">\n  <thead>\n    <tr style=\"text-align: right;\">\n      <th></th>\n      <th>position</th>\n      <th>random_bool</th>\n      <th>booking_bool</th>\n      <th>click_bool</th>\n    </tr>\n  </thead>\n  <tbody>\n    <tr>\n      <th>0</th>\n      <td>1</td>\n      <td>0</td>\n      <td>0.194377</td>\n      <td>0.215201</td>\n    </tr>\n    <tr>\n      <th>2</th>\n      <td>2</td>\n      <td>0</td>\n      <td>0.129348</td>\n      <td>0.145862</td>\n    </tr>\n    <tr>\n      <th>4</th>\n      <td>3</td>\n      <td>0</td>\n      <td>0.096330</td>\n      <td>0.110695</td>\n    </tr>\n    <tr>\n      <th>6</th>\n      <td>4</td>\n      <td>0</td>\n      <td>0.079510</td>\n      <td>0.092075</td>\n    </tr>\n    <tr>\n      <th>8</th>\n      <td>5</td>\n      <td>0</td>\n      <td>0.011763</td>\n      <td>0.017885</td>\n    </tr>\n    <tr>\n      <th>10</th>\n      <td>6</td>\n      <td>0</td>\n      <td>0.060947</td>\n      <td>0.071682</td>\n    </tr>\n    <tr>\n      <th>12</th>\n      <td>7</td>\n      <td>0</td>\n      <td>0.051082</td>\n      <td>0.060645</td>\n    </tr>\n    <tr>\n      <th>14</th>\n      <td>8</td>\n      <td>0</td>\n      <td>0.043596</td>\n      <td>0.052137</td>\n    </tr>\n    <tr>\n      <th>16</th>\n      <td>9</td>\n      <td>0</td>\n      <td>0.036805</td>\n      <td>0.044301</td>\n    </tr>\n    <tr>\n      <th>18</th>\n      <td>10</td>\n      <td>0</td>\n      <td>0.034845</td>\n      <td>0.041991</td>\n    </tr>\n    <tr>\n      <th>20</th>\n      <td>11</td>\n      <td>0</td>\n      <td>0.003899</td>\n      <td>0.007992</td>\n    </tr>\n    <tr>\n      <th>22</th>\n      <td>12</td>\n      <td>0</td>\n      <td>0.028508</td>\n      <td>0.034484</td>\n    </tr>\n    <tr>\n      <th>24</th>\n      <td>13</td>\n      <td>0</td>\n      <td>0.025206</td>\n      <td>0.031310</td>\n    </tr>\n    <tr>\n      <th>26</th>\n      <td>14</td>\n      <td>0</td>\n      <td>0.022415</td>\n      <td>0.027738</td>\n    </tr>\n    <tr>\n      <th>28</th>\n      <td>15</td>\n      <td>0</td>\n      <td>0.021545</td>\n      <td>0.026836</td>\n    </tr>\n    <tr>\n      <th>30</th>\n      <td>16</td>\n      <td>0</td>\n      <td>0.020221</td>\n      <td>0.025020</td>\n    </tr>\n    <tr>\n      <th>32</th>\n      <td>17</td>\n      <td>0</td>\n      <td>0.001544</td>\n      <td>0.004342</td>\n    </tr>\n    <tr>\n      <th>34</th>\n      <td>18</td>\n      <td>0</td>\n      <td>0.017304</td>\n      <td>0.021896</td>\n    </tr>\n    <tr>\n      <th>36</th>\n      <td>19</td>\n      <td>0</td>\n      <td>0.015696</td>\n      <td>0.019758</td>\n    </tr>\n    <tr>\n      <th>38</th>\n      <td>20</td>\n      <td>0</td>\n      <td>0.014389</td>\n      <td>0.018194</td>\n    </tr>\n    <tr>\n      <th>40</th>\n      <td>21</td>\n      <td>0</td>\n      <td>0.013231</td>\n      <td>0.017079</td>\n    </tr>\n    <tr>\n      <th>42</th>\n      <td>22</td>\n      <td>0</td>\n      <td>0.012673</td>\n      <td>0.016386</td>\n    </tr>\n    <tr>\n      <th>44</th>\n      <td>23</td>\n      <td>0</td>\n      <td>0.001111</td>\n      <td>0.003031</td>\n    </tr>\n    <tr>\n      <th>46</th>\n      <td>24</td>\n      <td>0</td>\n      <td>0.011575</td>\n      <td>0.014852</td>\n    </tr>\n    <tr>\n      <th>48</th>\n      <td>25</td>\n      <td>0</td>\n      <td>0.010812</td>\n      <td>0.013753</td>\n    </tr>\n    <tr>\n      <th>50</th>\n      <td>26</td>\n      <td>0</td>\n      <td>0.009882</td>\n      <td>0.012624</td>\n    </tr>\n    <tr>\n      <th>52</th>\n      <td>27</td>\n      <td>0</td>\n      <td>0.009777</td>\n      <td>0.012553</td>\n    </tr>\n    <tr>\n      <th>54</th>\n      <td>28</td>\n      <td>0</td>\n      <td>0.008666</td>\n      <td>0.011378</td>\n    </tr>\n    <tr>\n      <th>56</th>\n      <td>29</td>\n      <td>0</td>\n      <td>0.008342</td>\n      <td>0.010711</td>\n    </tr>\n    <tr>\n      <th>58</th>\n      <td>30</td>\n      <td>0</td>\n      <td>0.008132</td>\n      <td>0.010640</td>\n    </tr>\n    <tr>\n      <th>60</th>\n      <td>31</td>\n      <td>0</td>\n      <td>0.007559</td>\n      <td>0.009731</td>\n    </tr>\n    <tr>\n      <th>62</th>\n      <td>32</td>\n      <td>0</td>\n      <td>0.006731</td>\n      <td>0.008996</td>\n    </tr>\n    <tr>\n      <th>64</th>\n      <td>33</td>\n      <td>0</td>\n      <td>0.006577</td>\n      <td>0.008531</td>\n    </tr>\n    <tr>\n      <th>66</th>\n      <td>34</td>\n      <td>0</td>\n      <td>0.006623</td>\n      <td>0.008779</td>\n    </tr>\n    <tr>\n      <th>68</th>\n      <td>35</td>\n      <td>0</td>\n      <td>0.006114</td>\n      <td>0.008242</td>\n    </tr>\n    <tr>\n      <th>70</th>\n      <td>36</td>\n      <td>0</td>\n      <td>0.005924</td>\n      <td>0.007314</td>\n    </tr>\n    <tr>\n      <th>72</th>\n      <td>37</td>\n      <td>0</td>\n      <td>0.005901</td>\n      <td>0.007701</td>\n    </tr>\n    <tr>\n      <th>74</th>\n      <td>38</td>\n      <td>0</td>\n      <td>0.006886</td>\n      <td>0.008577</td>\n    </tr>\n    <tr>\n      <th>76</th>\n      <td>39</td>\n      <td>0</td>\n      <td>0.005068</td>\n      <td>0.007601</td>\n    </tr>\n    <tr>\n      <th>78</th>\n      <td>40</td>\n      <td>0</td>\n      <td>0.020000</td>\n      <td>0.020000</td>\n    </tr>\n  </tbody>\n</table>\n</div>"
          },
          "metadata": {}
        }
      ],
      "execution_count": 9,
      "metadata": {
        "collapsed": true,
        "jupyter": {
          "source_hidden": false,
          "outputs_hidden": false
        },
        "nteract": {
          "transient": {
            "deleting": false
          }
        },
        "gather": {
          "logged": 1620730181708
        }
      }
    },
    {
      "cell_type": "markdown",
      "source": [
        "# Seasonality - fail"
      ],
      "metadata": {
        "nteract": {
          "transient": {
            "deleting": false
          }
        }
      }
    },
    {
      "cell_type": "code",
      "source": [
        "import datetime\n",
        "\n",
        "# extract month from the booking dates column\n",
        "# create booking start date\n",
        "temp = df['srch_booking_window'].apply(lambda x: pd.Timedelta(x, unit='D'))\n",
        "df['book_start_date'] = df['date_time'] + temp"
      ],
      "outputs": [],
      "execution_count": 99,
      "metadata": {
        "collapsed": true,
        "jupyter": {
          "source_hidden": false,
          "outputs_hidden": false
        },
        "nteract": {
          "transient": {
            "deleting": false
          }
        },
        "gather": {
          "logged": 1620638139770
        }
      }
    },
    {
      "cell_type": "code",
      "source": [
        "# extract month from the 'book_start_date'\n",
        "df['book_month'] = pd.DatetimeIndex(df['book_start_date']).month"
      ],
      "outputs": [],
      "execution_count": 100,
      "metadata": {
        "collapsed": true,
        "jupyter": {
          "source_hidden": false,
          "outputs_hidden": false
        },
        "nteract": {
          "transient": {
            "deleting": false
          }
        },
        "gather": {
          "logged": 1620638214295
        }
      }
    },
    {
      "cell_type": "code",
      "source": [
        "# filter for hotels that appeared in more than one month\n",
        "to_filter = df.groupby([\"prop_id\", \"book_month\"]).size().reset_index().groupby([\"prop_id\"]).size().reset_index()\n",
        "print(len(to_filter))\n",
        "# rename\n",
        "to_filter.columns = [\"prop_id\", \"months\"]\n",
        "# filter where there are missing values\n",
        "to_filter.query(\"months > 1\", inplace=True)\n",
        "print(len(to_filter))\n",
        "# filter the values\n",
        "df_filtered = df[df['prop_id'].isin(to_filter['prop_id'])]"
      ],
      "outputs": [
        {
          "output_type": "stream",
          "name": "stdout",
          "text": [
            "129113\n",
            "114144\n"
          ]
        }
      ],
      "execution_count": 237,
      "metadata": {
        "collapsed": true,
        "jupyter": {
          "source_hidden": false,
          "outputs_hidden": false
        },
        "nteract": {
          "transient": {
            "deleting": false
          }
        },
        "gather": {
          "logged": 1620584143026
        }
      }
    },
    {
      "cell_type": "code",
      "source": [
        "# group by prop, then by prop and month and calculate mean of booking_bool\n",
        "per_prop = df_filtered.groupby([\"prop_id\"])[\"booking_bool\"].mean().reset_index()\n",
        "per_prop_month = df_filtered.groupby([\"prop_id\", \"book_month\"])[\"booking_bool\"].mean().reset_index()\n",
        "\n",
        "# join the dataframes\n",
        "\n",
        "joined = pd.merge(per_prop_month, per_prop, how=\"left\", on=\"prop_id\", suffixes=(\"_month\", \"_all\"))\n"
      ],
      "outputs": [],
      "execution_count": 238,
      "metadata": {
        "collapsed": true,
        "jupyter": {
          "source_hidden": false,
          "outputs_hidden": false
        },
        "nteract": {
          "transient": {
            "deleting": false
          }
        },
        "gather": {
          "logged": 1620584152130
        }
      }
    },
    {
      "cell_type": "code",
      "source": [
        "# calculate the difference between booking_bool_month and booking_bool_all\n",
        "\n",
        "joined[\"diff\"] = joined[\"booking_bool_all\"] - joined[\"booking_bool_month\"]\n",
        "# calculate mean difference per prop id\n",
        "\n",
        "means = joined.groupby(\"prop_id\")[\"diff\"].mean().reset_index()"
      ],
      "outputs": [],
      "execution_count": 239,
      "metadata": {
        "collapsed": true,
        "jupyter": {
          "source_hidden": false,
          "outputs_hidden": false
        },
        "nteract": {
          "transient": {
            "deleting": false
          }
        },
        "gather": {
          "logged": 1620584154662
        }
      }
    },
    {
      "cell_type": "code",
      "source": [
        "sns.histplot(means[\"diff\"], bins = 100)\n",
        "plt.ylim()"
      ],
      "outputs": [
        {
          "output_type": "execute_result",
          "execution_count": 240,
          "data": {
            "text/plain": "(0.0, 81320.4)"
          },
          "metadata": {}
        },
        {
          "output_type": "display_data",
          "data": {
            "text/plain": "<Figure size 720x360 with 1 Axes>",
            "image/png": "[encoded data removed]"
          },
          "metadata": {
            "needs_background": "light"
          }
        }
      ],
      "execution_count": 240,
      "metadata": {
        "collapsed": true,
        "jupyter": {
          "source_hidden": false,
          "outputs_hidden": false
        },
        "nteract": {
          "transient": {
            "deleting": false
          }
        },
        "gather": {
          "logged": 1620584157289
        }
      }
    },
    {
      "cell_type": "code",
      "source": [
        "import scipy.stats as stats\n",
        "\n",
        "stats.wilcoxon(means[\"diff\"][0:10000])"
      ],
      "outputs": [
        {
          "output_type": "execute_result",
          "execution_count": 219,
          "data": {
            "text/plain": "WilcoxonResult(statistic=1935097.5, pvalue=1.1127879703082833e-35)"
          },
          "metadata": {}
        }
      ],
      "execution_count": 219,
      "metadata": {
        "collapsed": true,
        "jupyter": {
          "source_hidden": false,
          "outputs_hidden": false
        },
        "nteract": {
          "transient": {
            "deleting": false
          }
        },
        "gather": {
          "logged": 1620582166588
        }
      }
    },
    {
      "cell_type": "markdown",
      "source": [
        "# Seasonality -  2nd try"
      ],
      "metadata": {
        "nteract": {
          "transient": {
            "deleting": false
          }
        }
      }
    },
    {
      "cell_type": "code",
      "source": [
        "# create season column\n",
        "def return_season(x):\n",
        "    if x in [12, 1, 2]:\n",
        "        return \"winter\"\n",
        "    elif x in [3, 4, 5]:\n",
        "        return \"spring\"\n",
        "    elif x in [6, 7, 8]:\n",
        "        return \"summer\"\n",
        "    else:\n",
        "        return \"autumn\"\n",
        "\n",
        "seasons = df['book_month'].apply(lambda x: return_season(x))\n",
        "#perform same analysis, but on date_time (uncomment two lines below to run)\n",
        "#df[\"search_month\"] = pd.DatetimeIndex(df['date_time']).month\n",
        "#seasons = df['search_month'].apply(lambda x: return_season(x))\n",
        "df[\"season\"] = seasons"
      ],
      "outputs": [],
      "execution_count": 154,
      "metadata": {
        "collapsed": true,
        "jupyter": {
          "source_hidden": false,
          "outputs_hidden": false
        },
        "nteract": {
          "transient": {
            "deleting": false
          }
        },
        "gather": {
          "logged": 1620640301687
        }
      }
    },
    {
      "cell_type": "code",
      "source": [
        "#find prop_id that appear in more than one seson\n",
        "\n",
        "seasons_per_prop_id = df.groupby([\"prop_id\",\"season\"]).size().groupby([\"prop_id\"]).size().reset_index()\n",
        "seasons_per_prop_id.columns = [\"prop_id\", \"count\"]\n",
        "selected_prop_id = seasons_per_prop_id[seasons_per_prop_id[\"count\"] > 1][\"prop_id\"]\n"
      ],
      "outputs": [],
      "execution_count": 155,
      "metadata": {
        "collapsed": true,
        "jupyter": {
          "source_hidden": false,
          "outputs_hidden": false
        },
        "nteract": {
          "transient": {
            "deleting": false
          }
        },
        "gather": {
          "logged": 1620640304429
        }
      }
    },
    {
      "cell_type": "code",
      "source": [
        "# filter for these prop_id\n",
        "\n",
        "df_filtered = df[df[\"prop_id\"].isin(selected_prop_id)]"
      ],
      "outputs": [],
      "execution_count": 156,
      "metadata": {
        "collapsed": true,
        "jupyter": {
          "source_hidden": false,
          "outputs_hidden": false
        },
        "nteract": {
          "transient": {
            "deleting": false
          }
        },
        "gather": {
          "logged": 1620640308252
        }
      }
    },
    {
      "cell_type": "code",
      "source": [
        "# group by prop, then by prop and season and calculate mean of booking_bool\n",
        "per_prop = df_filtered.groupby([\"prop_id\"])[\"booking_bool\"].mean().reset_index()\n",
        "per_prop_month = df_filtered.groupby([\"prop_id\", \"season\"])[\"booking_bool\"].mean().reset_index()\n",
        "\n",
        "# join the dataframes\n",
        "\n",
        "joined = pd.merge(per_prop_month, per_prop, how=\"left\", on=\"prop_id\", suffixes=(\"_season\", \"_all\"))"
      ],
      "outputs": [],
      "execution_count": 157,
      "metadata": {
        "collapsed": true,
        "jupyter": {
          "source_hidden": false,
          "outputs_hidden": false
        },
        "nteract": {
          "transient": {
            "deleting": false
          }
        },
        "gather": {
          "logged": 1620640310086
        }
      }
    },
    {
      "cell_type": "code",
      "source": [
        "# calculate the difference between booking_bool_month and booking_bool_all\n",
        "\n",
        "joined[\"diff\"] = joined[\"booking_bool_all\"] - joined[\"booking_bool_season\"]\n",
        "# calculate mean difference per prop id\n",
        "\n",
        "means = joined.groupby(\"prop_id\")[\"diff\"].mean().reset_index()"
      ],
      "outputs": [],
      "execution_count": 158,
      "metadata": {
        "collapsed": true,
        "jupyter": {
          "source_hidden": false,
          "outputs_hidden": false
        },
        "nteract": {
          "transient": {
            "deleting": false
          }
        },
        "gather": {
          "logged": 1620640312306
        }
      }
    },
    {
      "cell_type": "code",
      "source": [
        "sns.histplot(means[\"diff\"], bins = 100)\n",
        "plt.ylim()"
      ],
      "outputs": [
        {
          "output_type": "execute_result",
          "execution_count": 159,
          "data": {
            "text/plain": "(0.0, 80871.0)"
          },
          "metadata": {}
        },
        {
          "output_type": "display_data",
          "data": {
            "text/plain": "<Figure size 720x360 with 1 Axes>",
            "image/png": "[encoded data removed]"
          },
          "metadata": {}
        }
      ],
      "execution_count": 159,
      "metadata": {
        "collapsed": true,
        "jupyter": {
          "source_hidden": false,
          "outputs_hidden": false
        },
        "nteract": {
          "transient": {
            "deleting": false
          }
        },
        "gather": {
          "logged": 1620640316236
        }
      }
    },
    {
      "cell_type": "code",
      "source": [
        "import scipy.stats as stats\n",
        "\n",
        "stats.wilcoxon(means[\"diff\"])"
      ],
      "outputs": [
        {
          "output_type": "execute_result",
          "execution_count": 160,
          "data": {
            "text/plain": "WilcoxonResult(statistic=327792104.5, pvalue=0.0)"
          },
          "metadata": {}
        }
      ],
      "execution_count": 160,
      "metadata": {
        "collapsed": true,
        "jupyter": {
          "source_hidden": false,
          "outputs_hidden": false
        },
        "nteract": {
          "transient": {
            "deleting": false
          }
        },
        "gather": {
          "logged": 1620640320652
        }
      }
    },
    {
      "cell_type": "markdown",
      "source": [
        "# Price rank"
      ],
      "metadata": {
        "nteract": {
          "transient": {
            "deleting": false
          }
        }
      }
    },
    {
      "cell_type": "code",
      "source": [
        "# create a price rank column\n",
        "ranks = df.groupby('srch_id')['price_usd'].rank(ascending=True, method = \"dense\")\n",
        "\n",
        "df[\"price_rank\"] = ranks"
      ],
      "outputs": [],
      "execution_count": 53,
      "metadata": {
        "collapsed": true,
        "jupyter": {
          "source_hidden": false,
          "outputs_hidden": false
        },
        "nteract": {
          "transient": {
            "deleting": false
          }
        },
        "gather": {
          "logged": 1620742387838
        }
      }
    },
    {
      "cell_type": "code",
      "source": [
        "effect_price_position = df.groupby([\"random_bool\", \"price_rank\"])[\"booking_bool\", \"click_bool\"].mean().reset_index()"
      ],
      "outputs": [],
      "execution_count": 54,
      "metadata": {
        "collapsed": true,
        "jupyter": {
          "source_hidden": false,
          "outputs_hidden": false
        },
        "nteract": {
          "transient": {
            "deleting": false
          }
        },
        "gather": {
          "logged": 1620742400689
        }
      }
    },
    {
      "cell_type": "code",
      "source": [
        "effect_price_position.head()"
      ],
      "outputs": [
        {
          "output_type": "execute_result",
          "execution_count": 55,
          "data": {
            "text/plain": "   random_bool  price_rank  booking_bool  click_bool\n0            0         1.0      0.069141    0.078832\n1            0         2.0      0.061810    0.071348\n2            0         3.0      0.056259    0.065456\n3            0         4.0      0.053518    0.062372\n4            0         5.0      0.049912    0.058129",
            "text/html": "<div>\n<style scoped>\n    .dataframe tbody tr th:only-of-type {\n        vertical-align: middle;\n    }\n\n    .dataframe tbody tr th {\n        vertical-align: top;\n    }\n\n    .dataframe thead th {\n        text-align: right;\n    }\n</style>\n<table border=\"1\" class=\"dataframe\">\n  <thead>\n    <tr style=\"text-align: right;\">\n      <th></th>\n      <th>random_bool</th>\n      <th>price_rank</th>\n      <th>booking_bool</th>\n      <th>click_bool</th>\n    </tr>\n  </thead>\n  <tbody>\n    <tr>\n      <th>0</th>\n      <td>0</td>\n      <td>1.0</td>\n      <td>0.069141</td>\n      <td>0.078832</td>\n    </tr>\n    <tr>\n      <th>1</th>\n      <td>0</td>\n      <td>2.0</td>\n      <td>0.061810</td>\n      <td>0.071348</td>\n    </tr>\n    <tr>\n      <th>2</th>\n      <td>0</td>\n      <td>3.0</td>\n      <td>0.056259</td>\n      <td>0.065456</td>\n    </tr>\n    <tr>\n      <th>3</th>\n      <td>0</td>\n      <td>4.0</td>\n      <td>0.053518</td>\n      <td>0.062372</td>\n    </tr>\n    <tr>\n      <th>4</th>\n      <td>0</td>\n      <td>5.0</td>\n      <td>0.049912</td>\n      <td>0.058129</td>\n    </tr>\n  </tbody>\n</table>\n</div>"
          },
          "metadata": {}
        }
      ],
      "execution_count": 55,
      "metadata": {
        "collapsed": true,
        "jupyter": {
          "source_hidden": false,
          "outputs_hidden": false
        },
        "nteract": {
          "transient": {
            "deleting": false
          }
        },
        "gather": {
          "logged": 1620742403215
        }
      }
    },
    {
      "cell_type": "code",
      "source": [
        "fig, axes = plt.subplots(1, 2, figsize=(20, 5), sharey = True)\n",
        "\n",
        "# Bulbasaur\n",
        "sns.lineplot(data=effect_price_position, \n",
        "             x=\"price_rank\", \n",
        "             y=\"booking_bool\", \n",
        "             hue = \"random_bool\",\n",
        "             linewidth = line_width,\n",
        "             ax = axes[0])\n",
        "\n",
        "# Charmander\n",
        "sns.lineplot(data=effect_price_position, \n",
        "             x=\"price_rank\", \n",
        "             y=\"click_bool\", \n",
        "             hue = \"random_bool\",\n",
        "             linewidth = line_width,\n",
        "             ax = axes[1])\n",
        "\n",
        "plt.tight_layout()\n",
        "\n",
        "axes[0].set_title('Booked', size = text_size)\n",
        "axes[0].set_xlabel('Price position', size = text_size) \n",
        "axes[0].set_ylabel('Fraction', size = text_size)\n",
        "axes[0].get_legend().remove() \n",
        "axes[1].set_title('Clicked', size = text_size)\n",
        "axes[1].set_xlabel('Price position', size = text_size) \n",
        "axes[1].set_ylabel('% booked', size = text_size)\n",
        "axes[1].legend(title = \"random_bool\", fontsize=text_size, title_fontsize=text_size)"
      ],
      "outputs": [
        {
          "output_type": "execute_result",
          "execution_count": 56,
          "data": {
            "text/plain": "<matplotlib.legend.Legend at 0x7fade810ff28>"
          },
          "metadata": {}
        },
        {
          "output_type": "display_data",
          "data": {
            "text/plain": "<Figure size 1440x360 with 2 Axes>",
            "image/png": "[encoded data removed]"
          },
          "metadata": {}
        }
      ],
      "execution_count": 56,
      "metadata": {
        "collapsed": true,
        "jupyter": {
          "source_hidden": false,
          "outputs_hidden": false
        },
        "nteract": {
          "transient": {
            "deleting": false
          }
        },
        "gather": {
          "logged": 1620742407548
        }
      }
    },
    {
      "cell_type": "code",
      "source": [
        "sns.lineplot(data=effect_price_position[effect_price_position.random_bool == 1], \n",
        "             x=\"price_rank\", \n",
        "             y=\"booking_bool\", \n",
        "             hue = \"random_bool\",\n",
        "             linewidth = line_width,\n",
        "             )"
      ],
      "outputs": [
        {
          "output_type": "execute_result",
          "execution_count": 30,
          "data": {
            "text/plain": "<matplotlib.axes._subplots.AxesSubplot at 0x7f99cb2663c8>"
          },
          "metadata": {}
        },
        {
          "output_type": "display_data",
          "data": {
            "text/plain": "<Figure size 720x360 with 1 Axes>",
            "image/png": "[encoded data removed]"
          },
          "metadata": {
            "needs_background": "light"
          }
        }
      ],
      "execution_count": 30,
      "metadata": {
        "collapsed": true,
        "jupyter": {
          "source_hidden": false,
          "outputs_hidden": false
        },
        "nteract": {
          "transient": {
            "deleting": false
          }
        },
        "gather": {
          "logged": 1620592212468
        }
      }
    },
    {
      "cell_type": "code",
      "source": [
        "# let's see why there is a spike\n",
        "\n",
        "df[df[\"random_bool\"] == 1] .groupby('price_rank').size()"
      ],
      "outputs": [
        {
          "output_type": "execute_result",
          "execution_count": 26,
          "data": {
            "text/plain": "price_rank\n1.0     66102\n2.0     68967\n3.0     70760\n4.0     71838\n5.0     71935\n6.0     70724\n7.0     69228\n8.0     67823\n9.0     66066\n10.0    64284\n11.0    62640\n12.0    60875\n13.0    59242\n14.0    57335\n15.0    55278\n16.0    53104\n17.0    50846\n18.0    48692\n19.0    46068\n20.0    43721\n21.0    40990\n22.0    38086\n23.0    35008\n24.0    31538\n25.0    27579\n26.0    23060\n27.0    18013\n28.0    12851\n29.0     8112\n30.0     4229\n31.0     1669\n32.0      432\n33.0       74\n34.0        8\ndtype: int64"
          },
          "metadata": {}
        }
      ],
      "execution_count": 26,
      "metadata": {
        "collapsed": true,
        "jupyter": {
          "source_hidden": false,
          "outputs_hidden": false
        },
        "nteract": {
          "transient": {
            "deleting": false
          }
        },
        "gather": {
          "logged": 1620590925941
        }
      }
    },
    {
      "cell_type": "markdown",
      "source": [
        "# Feature engineering experimentation"
      ],
      "metadata": {
        "nteract": {
          "transient": {
            "deleting": false
          }
        }
      }
    },
    {
      "cell_type": "code",
      "source": [
        "### mean, median and std\n",
        "columns = [\"prop_starrating\", \"prop_review_score\", \"prop_location_score1\", \"prop_location_score2\"]\n",
        "group_by = [\"prop_id\"]"
      ],
      "outputs": [],
      "execution_count": 12,
      "metadata": {
        "collapsed": true,
        "jupyter": {
          "source_hidden": false,
          "outputs_hidden": false
        },
        "nteract": {
          "transient": {
            "deleting": false
          }
        },
        "gather": {
          "logged": 1620734416785
        }
      }
    },
    {
      "cell_type": "code",
      "source": [
        "means = df.groupby(group_by)[columns].mean().reset_index()\n",
        "means.columns = [means.columns[0]] + [x + \"_mean\" for x in means.columns[1:]]\n",
        "means"
      ],
      "outputs": [
        {
          "output_type": "execute_result",
          "execution_count": 47,
          "data": {
            "text/plain": "        prop_id  prop_starrating_mean  prop_review_score_mean  \\\n0             1                     2                     0.0   \n1             2                     0                     4.0   \n2             3                     3                     3.5   \n3             4                     5                     4.5   \n4             5                     0                     0.0   \n...         ...                   ...                     ...   \n129108   140817                     2                     3.0   \n129109   140818                     3                     0.0   \n129110   140819                     3                     4.0   \n129111   140820                     4                     0.0   \n129112   140821                     4                     5.0   \n\n        prop_location_score1_mean  prop_location_score2_mean  \n0                            3.04                        NaN  \n1                            0.69                   0.036100  \n2                            0.69                   0.035055  \n3                            4.88                   0.115500  \n4                            6.02                        NaN  \n...                           ...                        ...  \n129108                       4.43                   0.143200  \n129109                       4.17                   0.068500  \n129110                       5.37                   0.106100  \n129111                       3.87                        NaN  \n129112                       0.69                   0.009500  \n\n[129113 rows x 5 columns]",
            "text/html": "<div>\n<style scoped>\n    .dataframe tbody tr th:only-of-type {\n        vertical-align: middle;\n    }\n\n    .dataframe tbody tr th {\n        vertical-align: top;\n    }\n\n    .dataframe thead th {\n        text-align: right;\n    }\n</style>\n<table border=\"1\" class=\"dataframe\">\n  <thead>\n    <tr style=\"text-align: right;\">\n      <th></th>\n      <th>prop_id</th>\n      <th>prop_starrating_mean</th>\n      <th>prop_review_score_mean</th>\n      <th>prop_location_score1_mean</th>\n      <th>prop_location_score2_mean</th>\n    </tr>\n  </thead>\n  <tbody>\n    <tr>\n      <th>0</th>\n      <td>1</td>\n      <td>2</td>\n      <td>0.0</td>\n      <td>3.04</td>\n      <td>NaN</td>\n    </tr>\n    <tr>\n      <th>1</th>\n      <td>2</td>\n      <td>0</td>\n      <td>4.0</td>\n      <td>0.69</td>\n      <td>0.036100</td>\n    </tr>\n    <tr>\n      <th>2</th>\n      <td>3</td>\n      <td>3</td>\n      <td>3.5</td>\n      <td>0.69</td>\n      <td>0.035055</td>\n    </tr>\n    <tr>\n      <th>3</th>\n      <td>4</td>\n      <td>5</td>\n      <td>4.5</td>\n      <td>4.88</td>\n      <td>0.115500</td>\n    </tr>\n    <tr>\n      <th>4</th>\n      <td>5</td>\n      <td>0</td>\n      <td>0.0</td>\n      <td>6.02</td>\n      <td>NaN</td>\n    </tr>\n    <tr>\n      <th>...</th>\n      <td>...</td>\n      <td>...</td>\n      <td>...</td>\n      <td>...</td>\n      <td>...</td>\n    </tr>\n    <tr>\n      <th>129108</th>\n      <td>140817</td>\n      <td>2</td>\n      <td>3.0</td>\n      <td>4.43</td>\n      <td>0.143200</td>\n    </tr>\n    <tr>\n      <th>129109</th>\n      <td>140818</td>\n      <td>3</td>\n      <td>0.0</td>\n      <td>4.17</td>\n      <td>0.068500</td>\n    </tr>\n    <tr>\n      <th>129110</th>\n      <td>140819</td>\n      <td>3</td>\n      <td>4.0</td>\n      <td>5.37</td>\n      <td>0.106100</td>\n    </tr>\n    <tr>\n      <th>129111</th>\n      <td>140820</td>\n      <td>4</td>\n      <td>0.0</td>\n      <td>3.87</td>\n      <td>NaN</td>\n    </tr>\n    <tr>\n      <th>129112</th>\n      <td>140821</td>\n      <td>4</td>\n      <td>5.0</td>\n      <td>0.69</td>\n      <td>0.009500</td>\n    </tr>\n  </tbody>\n</table>\n<p>129113 rows × 5 columns</p>\n</div>"
          },
          "metadata": {}
        }
      ],
      "execution_count": 47,
      "metadata": {
        "collapsed": true,
        "jupyter": {
          "source_hidden": false,
          "outputs_hidden": false
        },
        "nteract": {
          "transient": {
            "deleting": false
          }
        },
        "gather": {
          "logged": 1620741236585
        }
      }
    },
    {
      "cell_type": "code",
      "source": [
        "df[[\"prop_id\", 'prop_starrating']].join(means, on = \"prop_id\", rsuffix='blah' )"
      ],
      "outputs": [
        {
          "output_type": "execute_result",
          "execution_count": 48,
          "data": {
            "text/plain": "         prop_id  prop_starrating  prop_idblah  prop_starrating_mean  \\\n0            893                3        973.0                   3.0   \n1          10404                4      11288.0                   4.0   \n2          21315                3      23197.0                   4.0   \n3          27348                2      29737.0                   0.0   \n4          29604                4      32206.0                   3.0   \n...          ...              ...          ...                   ...   \n4958342    77700                3      84723.0                   3.0   \n4958343    88083                3      96070.0                   0.0   \n4958344    94508                3     103077.0                   2.0   \n4958345   128360                3     139993.0                   0.0   \n4958346   134949                3          NaN                   NaN   \n\n         prop_review_score_mean  prop_location_score1_mean  \\\n0                           4.0                       1.79   \n1                           4.0                       1.61   \n2                           0.0                       5.50   \n3                           4.0                       1.79   \n4                           0.0                       3.93   \n...                         ...                        ...   \n4958342                     3.5                       2.83   \n4958343                     0.0                       1.95   \n4958344                     0.0                       3.89   \n4958345                     4.5                       1.39   \n4958346                     NaN                        NaN   \n\n         prop_location_score2_mean  \n0                         0.090600  \n1                         0.006800  \n2                         0.033843  \n3                              NaN  \n4                              NaN  \n...                            ...  \n4958342                   0.028228  \n4958343                        NaN  \n4958344                        NaN  \n4958345                   0.004200  \n4958346                        NaN  \n\n[4958347 rows x 7 columns]",
            "text/html": "<div>\n<style scoped>\n    .dataframe tbody tr th:only-of-type {\n        vertical-align: middle;\n    }\n\n    .dataframe tbody tr th {\n        vertical-align: top;\n    }\n\n    .dataframe thead th {\n        text-align: right;\n    }\n</style>\n<table border=\"1\" class=\"dataframe\">\n  <thead>\n    <tr style=\"text-align: right;\">\n      <th></th>\n      <th>prop_id</th>\n      <th>prop_starrating</th>\n      <th>prop_idblah</th>\n      <th>prop_starrating_mean</th>\n      <th>prop_review_score_mean</th>\n      <th>prop_location_score1_mean</th>\n      <th>prop_location_score2_mean</th>\n    </tr>\n  </thead>\n  <tbody>\n    <tr>\n      <th>0</th>\n      <td>893</td>\n      <td>3</td>\n      <td>973.0</td>\n      <td>3.0</td>\n      <td>4.0</td>\n      <td>1.79</td>\n      <td>0.090600</td>\n    </tr>\n    <tr>\n      <th>1</th>\n      <td>10404</td>\n      <td>4</td>\n      <td>11288.0</td>\n      <td>4.0</td>\n      <td>4.0</td>\n      <td>1.61</td>\n      <td>0.006800</td>\n    </tr>\n    <tr>\n      <th>2</th>\n      <td>21315</td>\n      <td>3</td>\n      <td>23197.0</td>\n      <td>4.0</td>\n      <td>0.0</td>\n      <td>5.50</td>\n      <td>0.033843</td>\n    </tr>\n    <tr>\n      <th>3</th>\n      <td>27348</td>\n      <td>2</td>\n      <td>29737.0</td>\n      <td>0.0</td>\n      <td>4.0</td>\n      <td>1.79</td>\n      <td>NaN</td>\n    </tr>\n    <tr>\n      <th>4</th>\n      <td>29604</td>\n      <td>4</td>\n      <td>32206.0</td>\n      <td>3.0</td>\n      <td>0.0</td>\n      <td>3.93</td>\n      <td>NaN</td>\n    </tr>\n    <tr>\n      <th>...</th>\n      <td>...</td>\n      <td>...</td>\n      <td>...</td>\n      <td>...</td>\n      <td>...</td>\n      <td>...</td>\n      <td>...</td>\n    </tr>\n    <tr>\n      <th>4958342</th>\n      <td>77700</td>\n      <td>3</td>\n      <td>84723.0</td>\n      <td>3.0</td>\n      <td>3.5</td>\n      <td>2.83</td>\n      <td>0.028228</td>\n    </tr>\n    <tr>\n      <th>4958343</th>\n      <td>88083</td>\n      <td>3</td>\n      <td>96070.0</td>\n      <td>0.0</td>\n      <td>0.0</td>\n      <td>1.95</td>\n      <td>NaN</td>\n    </tr>\n    <tr>\n      <th>4958344</th>\n      <td>94508</td>\n      <td>3</td>\n      <td>103077.0</td>\n      <td>2.0</td>\n      <td>0.0</td>\n      <td>3.89</td>\n      <td>NaN</td>\n    </tr>\n    <tr>\n      <th>4958345</th>\n      <td>128360</td>\n      <td>3</td>\n      <td>139993.0</td>\n      <td>0.0</td>\n      <td>4.5</td>\n      <td>1.39</td>\n      <td>0.004200</td>\n    </tr>\n    <tr>\n      <th>4958346</th>\n      <td>134949</td>\n      <td>3</td>\n      <td>NaN</td>\n      <td>NaN</td>\n      <td>NaN</td>\n      <td>NaN</td>\n      <td>NaN</td>\n    </tr>\n  </tbody>\n</table>\n<p>4958347 rows × 7 columns</p>\n</div>"
          },
          "metadata": {}
        }
      ],
      "execution_count": 48,
      "metadata": {
        "collapsed": true,
        "jupyter": {
          "source_hidden": false,
          "outputs_hidden": false
        },
        "nteract": {
          "transient": {
            "deleting": false
          }
        },
        "gather": {
          "logged": 1620741246224
        }
      }
    },
    {
      "cell_type": "code",
      "source": [
        "pd.merge(df[[\"prop_id\", 'prop_starrating']], means, on=\"prop_id\")"
      ],
      "outputs": [
        {
          "output_type": "execute_result",
          "execution_count": 57,
          "data": {
            "text/plain": "         prop_id  prop_starrating  prop_starrating_mean  \\\n0            893                3                     3   \n1            893                3                     3   \n2            893                3                     3   \n3            893                3                     3   \n4            893                3                     3   \n...          ...              ...                   ...   \n4958342    93842                3                     3   \n4958343   103277                3                     3   \n4958344   135856                4                     4   \n4958345     2284                0                     0   \n4958346    87173                3                     3   \n\n         prop_review_score_mean  prop_location_score1_mean  \\\n0                           3.5                       2.83   \n1                           3.5                       2.83   \n2                           3.5                       2.83   \n3                           3.5                       2.83   \n4                           3.5                       2.83   \n...                         ...                        ...   \n4958342                     4.0                       1.61   \n4958343                     5.0                       0.69   \n4958344                     3.5                       2.30   \n4958345                     0.0                       0.00   \n4958346                     4.0                       2.08   \n\n         prop_location_score2_mean  \n0                         0.056174  \n1                         0.056174  \n2                         0.056174  \n3                         0.056174  \n4                         0.056174  \n...                            ...  \n4958342                        NaN  \n4958343                   0.024200  \n4958344                   0.141500  \n4958345                        NaN  \n4958346                        NaN  \n\n[4958347 rows x 6 columns]",
            "text/html": "<div>\n<style scoped>\n    .dataframe tbody tr th:only-of-type {\n        vertical-align: middle;\n    }\n\n    .dataframe tbody tr th {\n        vertical-align: top;\n    }\n\n    .dataframe thead th {\n        text-align: right;\n    }\n</style>\n<table border=\"1\" class=\"dataframe\">\n  <thead>\n    <tr style=\"text-align: right;\">\n      <th></th>\n      <th>prop_id</th>\n      <th>prop_starrating</th>\n      <th>prop_starrating_mean</th>\n      <th>prop_review_score_mean</th>\n      <th>prop_location_score1_mean</th>\n      <th>prop_location_score2_mean</th>\n    </tr>\n  </thead>\n  <tbody>\n    <tr>\n      <th>0</th>\n      <td>893</td>\n      <td>3</td>\n      <td>3</td>\n      <td>3.5</td>\n      <td>2.83</td>\n      <td>0.056174</td>\n    </tr>\n    <tr>\n      <th>1</th>\n      <td>893</td>\n      <td>3</td>\n      <td>3</td>\n      <td>3.5</td>\n      <td>2.83</td>\n      <td>0.056174</td>\n    </tr>\n    <tr>\n      <th>2</th>\n      <td>893</td>\n      <td>3</td>\n      <td>3</td>\n      <td>3.5</td>\n      <td>2.83</td>\n      <td>0.056174</td>\n    </tr>\n    <tr>\n      <th>3</th>\n      <td>893</td>\n      <td>3</td>\n      <td>3</td>\n      <td>3.5</td>\n      <td>2.83</td>\n      <td>0.056174</td>\n    </tr>\n    <tr>\n      <th>4</th>\n      <td>893</td>\n      <td>3</td>\n      <td>3</td>\n      <td>3.5</td>\n      <td>2.83</td>\n      <td>0.056174</td>\n    </tr>\n    <tr>\n      <th>...</th>\n      <td>...</td>\n      <td>...</td>\n      <td>...</td>\n      <td>...</td>\n      <td>...</td>\n      <td>...</td>\n    </tr>\n    <tr>\n      <th>4958342</th>\n      <td>93842</td>\n      <td>3</td>\n      <td>3</td>\n      <td>4.0</td>\n      <td>1.61</td>\n      <td>NaN</td>\n    </tr>\n    <tr>\n      <th>4958343</th>\n      <td>103277</td>\n      <td>3</td>\n      <td>3</td>\n      <td>5.0</td>\n      <td>0.69</td>\n      <td>0.024200</td>\n    </tr>\n    <tr>\n      <th>4958344</th>\n      <td>135856</td>\n      <td>4</td>\n      <td>4</td>\n      <td>3.5</td>\n      <td>2.30</td>\n      <td>0.141500</td>\n    </tr>\n    <tr>\n      <th>4958345</th>\n      <td>2284</td>\n      <td>0</td>\n      <td>0</td>\n      <td>0.0</td>\n      <td>0.00</td>\n      <td>NaN</td>\n    </tr>\n    <tr>\n      <th>4958346</th>\n      <td>87173</td>\n      <td>3</td>\n      <td>3</td>\n      <td>4.0</td>\n      <td>2.08</td>\n      <td>NaN</td>\n    </tr>\n  </tbody>\n</table>\n<p>4958347 rows × 6 columns</p>\n</div>"
          },
          "metadata": {}
        }
      ],
      "execution_count": 57,
      "metadata": {
        "collapsed": true,
        "jupyter": {
          "source_hidden": false,
          "outputs_hidden": false
        },
        "nteract": {
          "transient": {
            "deleting": false
          }
        },
        "gather": {
          "logged": 1620744750980
        }
      }
    },
    {
      "cell_type": "code",
      "source": [
        "# caulcate means and rename columns\n",
        "historical = df.groupby(group_by)[[\"click_bool\", \"booking_bool\"]].mean().reset_index()\n",
        "historical.columns = [historical.columns[0]] + [x + \"_rate\" for x in historical.columns[1:]]\n",
        "pd.merge(df, historical, on=\"prop_id\")"
      ],
      "outputs": [],
      "execution_count": 60,
      "metadata": {
        "collapsed": true,
        "jupyter": {
          "source_hidden": false,
          "outputs_hidden": false
        },
        "nteract": {
          "transient": {
            "deleting": false
          }
        },
        "gather": {
          "logged": 1620748086939
        }
      }
    },
    {
      "cell_type": "code",
      "source": [
        "means.columns = [means.columns[0]] + [x + \"_mean\" for x in means.columns[1:]]\n",
        "df = pd.merge(df, means, on=group_by)"
      ],
      "outputs": [],
      "execution_count": null,
      "metadata": {
        "collapsed": true,
        "jupyter": {
          "source_hidden": false,
          "outputs_hidden": false
        },
        "nteract": {
          "transient": {
            "deleting": false
          }
        }
      }
    },
    {
      "cell_type": "markdown",
      "source": [
        "## check how much prop_ids overlap"
      ],
      "metadata": {
        "nteract": {
          "transient": {
            "deleting": false
          }
        }
      }
    },
    {
      "cell_type": "code",
      "source": [
        "df_test = pd.read_csv(\"test_set_VU_DM.csv\")"
      ],
      "outputs": [],
      "execution_count": 2,
      "metadata": {
        "collapsed": true,
        "jupyter": {
          "source_hidden": false,
          "outputs_hidden": false
        },
        "nteract": {
          "transient": {
            "deleting": false
          }
        },
        "gather": {
          "logged": 1620754791385
        }
      }
    },
    {
      "cell_type": "code",
      "source": [
        "list_original = np.unique(df.prop_id)\n",
        "len(list_original)"
      ],
      "outputs": [
        {
          "output_type": "execute_result",
          "execution_count": 16,
          "data": {
            "text/plain": "129113"
          },
          "metadata": {}
        }
      ],
      "execution_count": 16,
      "metadata": {
        "collapsed": true,
        "jupyter": {
          "source_hidden": false,
          "outputs_hidden": false
        },
        "nteract": {
          "transient": {
            "deleting": false
          }
        },
        "gather": {
          "logged": 1620755584319
        }
      }
    },
    {
      "cell_type": "code",
      "source": [
        "list_test = np.unique(df_test.prop_id)\n",
        "len(list_test)"
      ],
      "outputs": [
        {
          "output_type": "execute_result",
          "execution_count": 17,
          "data": {
            "text/plain": "129438"
          },
          "metadata": {}
        }
      ],
      "execution_count": 17,
      "metadata": {
        "collapsed": true,
        "jupyter": {
          "source_hidden": false,
          "outputs_hidden": false
        },
        "nteract": {
          "transient": {
            "deleting": false
          }
        },
        "gather": {
          "logged": 1620755588379
        }
      }
    },
    {
      "cell_type": "code",
      "source": [
        "appeared = 0\n",
        "\n",
        "for i in list_original:\n",
        "    if i in list_test:\n",
        "        appeared += 1"
      ],
      "outputs": [],
      "execution_count": 18,
      "metadata": {
        "collapsed": true,
        "jupyter": {
          "source_hidden": false,
          "outputs_hidden": false
        },
        "nteract": {
          "transient": {
            "deleting": false
          }
        },
        "gather": {
          "logged": 1620755676407
        }
      }
    },
    {
      "cell_type": "code",
      "source": [
        "appeared"
      ],
      "outputs": [
        {
          "output_type": "execute_result",
          "execution_count": 19,
          "data": {
            "text/plain": "121665"
          },
          "metadata": {}
        }
      ],
      "execution_count": 19,
      "metadata": {
        "collapsed": true,
        "jupyter": {
          "source_hidden": false,
          "outputs_hidden": false
        },
        "nteract": {
          "transient": {
            "deleting": false
          }
        },
        "gather": {
          "logged": 1620755679159
        }
      }
    }
  ],
  "metadata": {
    "kernelspec": {
      "name": "python3",
      "language": "python",
      "display_name": "Python 3"
    },
    "language_info": {
      "name": "python",
      "version": "3.6.9",
      "mimetype": "text/x-python",
      "codemirror_mode": {
        "name": "ipython",
        "version": 3
      },
      "pygments_lexer": "ipython3",
      "nbconvert_exporter": "python",
      "file_extension": ".py"
    },
    "kernel_info": {
      "name": "python3"
    },
    "nteract": {
      "version": "nteract-front-end@1.0.0"
    },
    "microsoft": {
      "host": {
        "AzureML": {
          "notebookHasBeenCompleted": true
        }
      }
    }
  },
  "nbformat": 4,
  "nbformat_minor": 4
}