{
  "cells": [
    {
      "cell_type": "code",
      "source": [
        "import pandas as pd\n",
        "import numpy as np\n",
        "import seaborn as sns\n",
        "import datetime\n",
        "import matplotlib.pyplot as plt\n",
        "from sklearn.preprocessing import LabelEncoder\n",
        "from sklearn.preprocessing import StandardScaler\n",
        "from sklearn.decomposition import PCA\n",
        "from sklearn import metrics\n",
        "from sklearn.ensemble import RandomForestClassifier\n",
        "from sklearn.linear_model import LogisticRegression\n",
        "from sklearn.svm import LinearSVC\n",
        "from sklearn.neighbors import NearestNeighbors\n",
        "from sklearn.model_selection import train_test_split\n",
        "from sklearn import preprocessing\n",
        "from sklearn import utils\n",
        "from sklearn.neighbors import KNeighborsClassifier\n",
        "from sklearn.svm import SVC\n",
        "from sklearn.naive_bayes import GaussianNB\n",
        "from sklearn.utils import shuffle\n",
        "from sklearn.metrics import accuracy_score, f1_score, precision_score, recall_score, classification_report, confusion_matrix\n",
        "from sklearn.model_selection import cross_val_score\n",
        "from sklearn.tree import DecisionTreeClassifier\n",
        "import re\n",
        "import random\n",
        "\n",
        "plt.rcParams[\"figure.figsize\"]=10,5\n",
        "plt.rc('xtick', labelsize=25) \n",
        "plt.rc('ytick', labelsize=25) \n",
        "text_size = 25\n",
        "line_width = 2.5\n",
        "plt.style.use('ggplot')\n",
        "sns.set_palette(\"twilight\")"
      ],
      "outputs": [],
      "execution_count": 1,
      "metadata": {
        "trusted": true,
        "gather": {
          "logged": 1620645218864
        }
      }
    },
    {
      "cell_type": "code",
      "source": [
        "df = pd.read_csv(\"training_set_VU_DM.csv\")\n",
        "df['date_time'] = pd.to_datetime(df['date_time'])\n",
        "df.head()"
      ],
      "outputs": [
        {
          "output_type": "execute_result",
          "execution_count": 2,
          "data": {
            "text/plain": "   srch_id           date_time  site_id  visitor_location_country_id  \\\n0        1 2013-04-04 08:32:15       12                          187   \n1        1 2013-04-04 08:32:15       12                          187   \n2        1 2013-04-04 08:32:15       12                          187   \n3        1 2013-04-04 08:32:15       12                          187   \n4        1 2013-04-04 08:32:15       12                          187   \n\n   visitor_hist_starrating  visitor_hist_adr_usd  prop_country_id  prop_id  \\\n0                      NaN                   NaN              219      893   \n1                      NaN                   NaN              219    10404   \n2                      NaN                   NaN              219    21315   \n3                      NaN                   NaN              219    27348   \n4                      NaN                   NaN              219    29604   \n\n   prop_starrating  prop_review_score  ...  comp6_rate_percent_diff  \\\n0                3                3.5  ...                      NaN   \n1                4                4.0  ...                      NaN   \n2                3                4.5  ...                      NaN   \n3                2                4.0  ...                      NaN   \n4                4                3.5  ...                      NaN   \n\n   comp7_rate  comp7_inv  comp7_rate_percent_diff  comp8_rate  comp8_inv  \\\n0         NaN        NaN                      NaN         0.0        0.0   \n1         NaN        NaN                      NaN         0.0        0.0   \n2         NaN        NaN                      NaN         0.0        0.0   \n3         NaN        NaN                      NaN        -1.0        0.0   \n4         NaN        NaN                      NaN         0.0        0.0   \n\n   comp8_rate_percent_diff  click_bool  gross_bookings_usd  booking_bool  \n0                      NaN           0                 NaN             0  \n1                      NaN           0                 NaN             0  \n2                      NaN           0                 NaN             0  \n3                      5.0           0                 NaN             0  \n4                      NaN           0                 NaN             0  \n\n[5 rows x 54 columns]",
            "text/html": "<div>\n<style scoped>\n    .dataframe tbody tr th:only-of-type {\n        vertical-align: middle;\n    }\n\n    .dataframe tbody tr th {\n        vertical-align: top;\n    }\n\n    .dataframe thead th {\n        text-align: right;\n    }\n</style>\n<table border=\"1\" class=\"dataframe\">\n  <thead>\n    <tr style=\"text-align: right;\">\n      <th></th>\n      <th>srch_id</th>\n      <th>date_time</th>\n      <th>site_id</th>\n      <th>visitor_location_country_id</th>\n      <th>visitor_hist_starrating</th>\n      <th>visitor_hist_adr_usd</th>\n      <th>prop_country_id</th>\n      <th>prop_id</th>\n      <th>prop_starrating</th>\n      <th>prop_review_score</th>\n      <th>...</th>\n      <th>comp6_rate_percent_diff</th>\n      <th>comp7_rate</th>\n      <th>comp7_inv</th>\n      <th>comp7_rate_percent_diff</th>\n      <th>comp8_rate</th>\n      <th>comp8_inv</th>\n      <th>comp8_rate_percent_diff</th>\n      <th>click_bool</th>\n      <th>gross_bookings_usd</th>\n      <th>booking_bool</th>\n    </tr>\n  </thead>\n  <tbody>\n    <tr>\n      <th>0</th>\n      <td>1</td>\n      <td>2013-04-04 08:32:15</td>\n      <td>12</td>\n      <td>187</td>\n      <td>NaN</td>\n      <td>NaN</td>\n      <td>219</td>\n      <td>893</td>\n      <td>3</td>\n      <td>3.5</td>\n      <td>...</td>\n      <td>NaN</td>\n      <td>NaN</td>\n      <td>NaN</td>\n      <td>NaN</td>\n      <td>0.0</td>\n      <td>0.0</td>\n      <td>NaN</td>\n      <td>0</td>\n      <td>NaN</td>\n      <td>0</td>\n    </tr>\n    <tr>\n      <th>1</th>\n      <td>1</td>\n      <td>2013-04-04 08:32:15</td>\n      <td>12</td>\n      <td>187</td>\n      <td>NaN</td>\n      <td>NaN</td>\n      <td>219</td>\n      <td>10404</td>\n      <td>4</td>\n      <td>4.0</td>\n      <td>...</td>\n      <td>NaN</td>\n      <td>NaN</td>\n      <td>NaN</td>\n      <td>NaN</td>\n      <td>0.0</td>\n      <td>0.0</td>\n      <td>NaN</td>\n      <td>0</td>\n      <td>NaN</td>\n      <td>0</td>\n    </tr>\n    <tr>\n      <th>2</th>\n      <td>1</td>\n      <td>2013-04-04 08:32:15</td>\n      <td>12</td>\n      <td>187</td>\n      <td>NaN</td>\n      <td>NaN</td>\n      <td>219</td>\n      <td>21315</td>\n      <td>3</td>\n      <td>4.5</td>\n      <td>...</td>\n      <td>NaN</td>\n      <td>NaN</td>\n      <td>NaN</td>\n      <td>NaN</td>\n      <td>0.0</td>\n      <td>0.0</td>\n      <td>NaN</td>\n      <td>0</td>\n      <td>NaN</td>\n      <td>0</td>\n    </tr>\n    <tr>\n      <th>3</th>\n      <td>1</td>\n      <td>2013-04-04 08:32:15</td>\n      <td>12</td>\n      <td>187</td>\n      <td>NaN</td>\n      <td>NaN</td>\n      <td>219</td>\n      <td>27348</td>\n      <td>2</td>\n      <td>4.0</td>\n      <td>...</td>\n      <td>NaN</td>\n      <td>NaN</td>\n      <td>NaN</td>\n      <td>NaN</td>\n      <td>-1.0</td>\n      <td>0.0</td>\n      <td>5.0</td>\n      <td>0</td>\n      <td>NaN</td>\n      <td>0</td>\n    </tr>\n    <tr>\n      <th>4</th>\n      <td>1</td>\n      <td>2013-04-04 08:32:15</td>\n      <td>12</td>\n      <td>187</td>\n      <td>NaN</td>\n      <td>NaN</td>\n      <td>219</td>\n      <td>29604</td>\n      <td>4</td>\n      <td>3.5</td>\n      <td>...</td>\n      <td>NaN</td>\n      <td>NaN</td>\n      <td>NaN</td>\n      <td>NaN</td>\n      <td>0.0</td>\n      <td>0.0</td>\n      <td>NaN</td>\n      <td>0</td>\n      <td>NaN</td>\n      <td>0</td>\n    </tr>\n  </tbody>\n</table>\n<p>5 rows × 54 columns</p>\n</div>"
          },
          "metadata": {}
        }
      ],
      "execution_count": 2,
      "metadata": {
        "trusted": true,
        "gather": {
          "logged": 1620645266133
        }
      }
    },
    {
      "cell_type": "code",
      "source": [
        "df.shape"
      ],
      "outputs": [
        {
          "output_type": "execute_result",
          "execution_count": 158,
          "data": {
            "text/plain": "(4958347, 54)"
          },
          "metadata": {}
        }
      ],
      "execution_count": 158,
      "metadata": {
        "collapsed": true,
        "jupyter": {
          "source_hidden": false,
          "outputs_hidden": false
        },
        "nteract": {
          "transient": {
            "deleting": false
          }
        },
        "gather": {
          "logged": 1620572123461
        }
      }
    },
    {
      "cell_type": "code",
      "source": [
        "df.describe()"
      ],
      "outputs": [
        {
          "output_type": "execute_result",
          "execution_count": 159,
          "data": {
            "text/plain": "            srch_id       site_id  visitor_location_country_id  \\\ncount  4.958347e+06  4.958347e+06                 4.958347e+06   \nmean   1.663666e+05  9.953133e+00                 1.753405e+02   \nstd    9.611223e+04  7.646890e+00                 6.591625e+01   \nmin    1.000000e+00  1.000000e+00                 1.000000e+00   \n25%    8.293600e+04  5.000000e+00                 1.000000e+02   \n50%    1.665070e+05  5.000000e+00                 2.190000e+02   \n75%    2.497240e+05  1.400000e+01                 2.190000e+02   \nmax    3.327850e+05  3.400000e+01                 2.310000e+02   \n\n       visitor_hist_starrating  visitor_hist_adr_usd  prop_country_id  \\\ncount            251866.000000         252988.000000     4.958347e+06   \nmean                  3.374334            176.022659     1.739739e+02   \nstd                   0.692519            107.254493     6.834525e+01   \nmin                   1.410000              0.000000     1.000000e+00   \n25%                   2.920000            109.810000     1.000000e+02   \n50%                   3.450000            152.240000     2.190000e+02   \n75%                   3.930000            213.490000     2.190000e+02   \nmax                   5.000000           1958.700000     2.300000e+02   \n\n            prop_id  prop_starrating  prop_review_score  prop_brand_bool  ...  \\\ncount  4.958347e+06     4.958347e+06       4.950983e+06     4.958347e+06  ...   \nmean   7.007918e+04     3.180525e+00       3.777777e+00     6.346994e-01  ...   \nstd    4.060992e+04     1.051024e+00       1.050329e+00     4.815144e-01  ...   \nmin    1.000000e+00     0.000000e+00       0.000000e+00     0.000000e+00  ...   \n25%    3.501000e+04     3.000000e+00       3.500000e+00     0.000000e+00  ...   \n50%    6.963800e+04     3.000000e+00       4.000000e+00     1.000000e+00  ...   \n75%    1.051680e+05     4.000000e+00       4.500000e+00     1.000000e+00  ...   \nmax    1.408210e+05     5.000000e+00       5.000000e+00     1.000000e+00  ...   \n\n       comp6_rate_percent_diff     comp7_rate      comp7_inv  \\\ncount             96174.000000  315348.000000  356422.000000   \nmean                 17.250473       0.145969       0.083202   \nstd                  31.160313       0.578202       0.316722   \nmin                   2.000000      -1.000000      -1.000000   \n25%                   6.000000       0.000000       0.000000   \n50%                  11.000000       0.000000       0.000000   \n75%                  18.000000       1.000000       0.000000   \nmax                1620.000000       1.000000       1.000000   \n\n       comp7_rate_percent_diff    comp8_rate     comp8_inv  \\\ncount            138515.000000  1.916654e+06  1.987503e+06   \nmean                 19.433267 -6.089936e-02  9.962752e-03   \nstd                  54.370221  4.691723e-01  2.029142e-01   \nmin                   2.000000 -1.000000e+00 -1.000000e+00   \n25%                   7.000000  0.000000e+00  0.000000e+00   \n50%                  12.000000  0.000000e+00  0.000000e+00   \n75%                  20.000000  0.000000e+00  0.000000e+00   \nmax                9900.000000  1.000000e+00  1.000000e+00   \n\n       comp8_rate_percent_diff    click_bool  gross_bookings_usd  booking_bool  \ncount            614730.000000  4.958347e+06       138390.000000  4.958347e+06  \nmean                 22.430384  4.474858e-02          386.283316  2.791051e-02  \nstd                 895.965854  2.067514e-01          821.190577  1.647165e-01  \nmin                   2.000000  0.000000e+00            0.000000  0.000000e+00  \n25%                   7.000000  0.000000e+00          124.000000  0.000000e+00  \n50%                  11.000000  0.000000e+00          218.400000  0.000000e+00  \n75%                  17.000000  0.000000e+00          429.790000  0.000000e+00  \nmax              149400.000000  1.000000e+00       159292.380000  1.000000e+00  \n\n[8 rows x 53 columns]",
            "text/html": "<div>\n<style scoped>\n    .dataframe tbody tr th:only-of-type {\n        vertical-align: middle;\n    }\n\n    .dataframe tbody tr th {\n        vertical-align: top;\n    }\n\n    .dataframe thead th {\n        text-align: right;\n    }\n</style>\n<table border=\"1\" class=\"dataframe\">\n  <thead>\n    <tr style=\"text-align: right;\">\n      <th></th>\n      <th>srch_id</th>\n      <th>site_id</th>\n      <th>visitor_location_country_id</th>\n      <th>visitor_hist_starrating</th>\n      <th>visitor_hist_adr_usd</th>\n      <th>prop_country_id</th>\n      <th>prop_id</th>\n      <th>prop_starrating</th>\n      <th>prop_review_score</th>\n      <th>prop_brand_bool</th>\n      <th>...</th>\n      <th>comp6_rate_percent_diff</th>\n      <th>comp7_rate</th>\n      <th>comp7_inv</th>\n      <th>comp7_rate_percent_diff</th>\n      <th>comp8_rate</th>\n      <th>comp8_inv</th>\n      <th>comp8_rate_percent_diff</th>\n      <th>click_bool</th>\n      <th>gross_bookings_usd</th>\n      <th>booking_bool</th>\n    </tr>\n  </thead>\n  <tbody>\n    <tr>\n      <th>count</th>\n      <td>4.958347e+06</td>\n      <td>4.958347e+06</td>\n      <td>4.958347e+06</td>\n      <td>251866.000000</td>\n      <td>252988.000000</td>\n      <td>4.958347e+06</td>\n      <td>4.958347e+06</td>\n      <td>4.958347e+06</td>\n      <td>4.950983e+06</td>\n      <td>4.958347e+06</td>\n      <td>...</td>\n      <td>96174.000000</td>\n      <td>315348.000000</td>\n      <td>356422.000000</td>\n      <td>138515.000000</td>\n      <td>1.916654e+06</td>\n      <td>1.987503e+06</td>\n      <td>614730.000000</td>\n      <td>4.958347e+06</td>\n      <td>138390.000000</td>\n      <td>4.958347e+06</td>\n    </tr>\n    <tr>\n      <th>mean</th>\n      <td>1.663666e+05</td>\n      <td>9.953133e+00</td>\n      <td>1.753405e+02</td>\n      <td>3.374334</td>\n      <td>176.022659</td>\n      <td>1.739739e+02</td>\n      <td>7.007918e+04</td>\n      <td>3.180525e+00</td>\n      <td>3.777777e+00</td>\n      <td>6.346994e-01</td>\n      <td>...</td>\n      <td>17.250473</td>\n      <td>0.145969</td>\n      <td>0.083202</td>\n      <td>19.433267</td>\n      <td>-6.089936e-02</td>\n      <td>9.962752e-03</td>\n      <td>22.430384</td>\n      <td>4.474858e-02</td>\n      <td>386.283316</td>\n      <td>2.791051e-02</td>\n    </tr>\n    <tr>\n      <th>std</th>\n      <td>9.611223e+04</td>\n      <td>7.646890e+00</td>\n      <td>6.591625e+01</td>\n      <td>0.692519</td>\n      <td>107.254493</td>\n      <td>6.834525e+01</td>\n      <td>4.060992e+04</td>\n      <td>1.051024e+00</td>\n      <td>1.050329e+00</td>\n      <td>4.815144e-01</td>\n      <td>...</td>\n      <td>31.160313</td>\n      <td>0.578202</td>\n      <td>0.316722</td>\n      <td>54.370221</td>\n      <td>4.691723e-01</td>\n      <td>2.029142e-01</td>\n      <td>895.965854</td>\n      <td>2.067514e-01</td>\n      <td>821.190577</td>\n      <td>1.647165e-01</td>\n    </tr>\n    <tr>\n      <th>min</th>\n      <td>1.000000e+00</td>\n      <td>1.000000e+00</td>\n      <td>1.000000e+00</td>\n      <td>1.410000</td>\n      <td>0.000000</td>\n      <td>1.000000e+00</td>\n      <td>1.000000e+00</td>\n      <td>0.000000e+00</td>\n      <td>0.000000e+00</td>\n      <td>0.000000e+00</td>\n      <td>...</td>\n      <td>2.000000</td>\n      <td>-1.000000</td>\n      <td>-1.000000</td>\n      <td>2.000000</td>\n      <td>-1.000000e+00</td>\n      <td>-1.000000e+00</td>\n      <td>2.000000</td>\n      <td>0.000000e+00</td>\n      <td>0.000000</td>\n      <td>0.000000e+00</td>\n    </tr>\n    <tr>\n      <th>25%</th>\n      <td>8.293600e+04</td>\n      <td>5.000000e+00</td>\n      <td>1.000000e+02</td>\n      <td>2.920000</td>\n      <td>109.810000</td>\n      <td>1.000000e+02</td>\n      <td>3.501000e+04</td>\n      <td>3.000000e+00</td>\n      <td>3.500000e+00</td>\n      <td>0.000000e+00</td>\n      <td>...</td>\n      <td>6.000000</td>\n      <td>0.000000</td>\n      <td>0.000000</td>\n      <td>7.000000</td>\n      <td>0.000000e+00</td>\n      <td>0.000000e+00</td>\n      <td>7.000000</td>\n      <td>0.000000e+00</td>\n      <td>124.000000</td>\n      <td>0.000000e+00</td>\n    </tr>\n    <tr>\n      <th>50%</th>\n      <td>1.665070e+05</td>\n      <td>5.000000e+00</td>\n      <td>2.190000e+02</td>\n      <td>3.450000</td>\n      <td>152.240000</td>\n      <td>2.190000e+02</td>\n      <td>6.963800e+04</td>\n      <td>3.000000e+00</td>\n      <td>4.000000e+00</td>\n      <td>1.000000e+00</td>\n      <td>...</td>\n      <td>11.000000</td>\n      <td>0.000000</td>\n      <td>0.000000</td>\n      <td>12.000000</td>\n      <td>0.000000e+00</td>\n      <td>0.000000e+00</td>\n      <td>11.000000</td>\n      <td>0.000000e+00</td>\n      <td>218.400000</td>\n      <td>0.000000e+00</td>\n    </tr>\n    <tr>\n      <th>75%</th>\n      <td>2.497240e+05</td>\n      <td>1.400000e+01</td>\n      <td>2.190000e+02</td>\n      <td>3.930000</td>\n      <td>213.490000</td>\n      <td>2.190000e+02</td>\n      <td>1.051680e+05</td>\n      <td>4.000000e+00</td>\n      <td>4.500000e+00</td>\n      <td>1.000000e+00</td>\n      <td>...</td>\n      <td>18.000000</td>\n      <td>1.000000</td>\n      <td>0.000000</td>\n      <td>20.000000</td>\n      <td>0.000000e+00</td>\n      <td>0.000000e+00</td>\n      <td>17.000000</td>\n      <td>0.000000e+00</td>\n      <td>429.790000</td>\n      <td>0.000000e+00</td>\n    </tr>\n    <tr>\n      <th>max</th>\n      <td>3.327850e+05</td>\n      <td>3.400000e+01</td>\n      <td>2.310000e+02</td>\n      <td>5.000000</td>\n      <td>1958.700000</td>\n      <td>2.300000e+02</td>\n      <td>1.408210e+05</td>\n      <td>5.000000e+00</td>\n      <td>5.000000e+00</td>\n      <td>1.000000e+00</td>\n      <td>...</td>\n      <td>1620.000000</td>\n      <td>1.000000</td>\n      <td>1.000000</td>\n      <td>9900.000000</td>\n      <td>1.000000e+00</td>\n      <td>1.000000e+00</td>\n      <td>149400.000000</td>\n      <td>1.000000e+00</td>\n      <td>159292.380000</td>\n      <td>1.000000e+00</td>\n    </tr>\n  </tbody>\n</table>\n<p>8 rows × 53 columns</p>\n</div>"
          },
          "metadata": {}
        }
      ],
      "execution_count": 159,
      "metadata": {
        "trusted": true,
        "gather": {
          "logged": 1620572131764
        }
      }
    },
    {
      "cell_type": "code",
      "source": [
        "df.info()"
      ],
      "outputs": [
        {
          "output_type": "stream",
          "name": "stdout",
          "text": [
            "<class 'pandas.core.frame.DataFrame'>\n",
            "RangeIndex: 4958347 entries, 0 to 4958346\n",
            "Data columns (total 54 columns):\n",
            "srch_id                        int64\n",
            "date_time                      object\n",
            "site_id                        int64\n",
            "visitor_location_country_id    int64\n",
            "visitor_hist_starrating        float64\n",
            "visitor_hist_adr_usd           float64\n",
            "prop_country_id                int64\n",
            "prop_id                        int64\n",
            "prop_starrating                int64\n",
            "prop_review_score              float64\n",
            "prop_brand_bool                int64\n",
            "prop_location_score1           float64\n",
            "prop_location_score2           float64\n",
            "prop_log_historical_price      float64\n",
            "position                       int64\n",
            "price_usd                      float64\n",
            "promotion_flag                 int64\n",
            "srch_destination_id            int64\n",
            "srch_length_of_stay            int64\n",
            "srch_booking_window            int64\n",
            "srch_adults_count              int64\n",
            "srch_children_count            int64\n",
            "srch_room_count                int64\n",
            "srch_saturday_night_bool       int64\n",
            "srch_query_affinity_score      float64\n",
            "orig_destination_distance      float64\n",
            "random_bool                    int64\n",
            "comp1_rate                     float64\n",
            "comp1_inv                      float64\n",
            "comp1_rate_percent_diff        float64\n",
            "comp2_rate                     float64\n",
            "comp2_inv                      float64\n",
            "comp2_rate_percent_diff        float64\n",
            "comp3_rate                     float64\n",
            "comp3_inv                      float64\n",
            "comp3_rate_percent_diff        float64\n",
            "comp4_rate                     float64\n",
            "comp4_inv                      float64\n",
            "comp4_rate_percent_diff        float64\n",
            "comp5_rate                     float64\n",
            "comp5_inv                      float64\n",
            "comp5_rate_percent_diff        float64\n",
            "comp6_rate                     float64\n",
            "comp6_inv                      float64\n",
            "comp6_rate_percent_diff        float64\n",
            "comp7_rate                     float64\n",
            "comp7_inv                      float64\n",
            "comp7_rate_percent_diff        float64\n",
            "comp8_rate                     float64\n",
            "comp8_inv                      float64\n",
            "comp8_rate_percent_diff        float64\n",
            "click_bool                     int64\n",
            "gross_bookings_usd             float64\n",
            "booking_bool                   int64\n",
            "dtypes: float64(34), int64(19), object(1)\n",
            "memory usage: 2.0+ GB\n"
          ]
        }
      ],
      "execution_count": 9,
      "metadata": {
        "collapsed": true,
        "jupyter": {
          "source_hidden": false,
          "outputs_hidden": false
        },
        "nteract": {
          "transient": {
            "deleting": false
          }
        },
        "gather": {
          "logged": 1620546581845
        }
      }
    },
    {
      "cell_type": "markdown",
      "source": [
        "# Missing values "
      ],
      "metadata": {
        "nteract": {
          "transient": {
            "deleting": false
          }
        }
      }
    },
    {
      "cell_type": "code",
      "source": [
        "# find how many values are missing in the columns\n",
        "missing_values = df.isna().mean().round(4) * 100\n",
        "missing_values = pd.DataFrame(missing_values).reset_index()\n",
        "\n",
        "# rename\n",
        "missing_values.columns = [\"column\", \"missing\"]\n",
        "# filter where there are missing values\n",
        "missing_values.query(\"missing > 0\", inplace=True)"
      ],
      "outputs": [],
      "execution_count": 36,
      "metadata": {
        "collapsed": true,
        "jupyter": {
          "source_hidden": false,
          "outputs_hidden": false
        },
        "nteract": {
          "transient": {
            "deleting": false
          }
        },
        "gather": {
          "logged": 1620631968070
        }
      }
    },
    {
      "cell_type": "code",
      "source": [
        "# to latex table\n",
        "print(missing_values.to_latex(index=False))"
      ],
      "outputs": [
        {
          "output_type": "stream",
          "name": "stdout",
          "text": [
            "\\begin{tabular}{lr}\n",
            "\\toprule\n",
            "                    column &  missing \\\\\n",
            "\\midrule\n",
            "   visitor\\_hist\\_starrating &    94.92 \\\\\n",
            "      visitor\\_hist\\_adr\\_usd &    94.90 \\\\\n",
            "         prop\\_review\\_score &     0.15 \\\\\n",
            "      prop\\_location\\_score2 &    21.99 \\\\\n",
            " srch\\_query\\_affinity\\_score &    93.60 \\\\\n",
            " orig\\_destination\\_distance &    32.43 \\\\\n",
            "                comp1\\_rate &    97.58 \\\\\n",
            "                 comp1\\_inv &    97.39 \\\\\n",
            "   comp1\\_rate\\_percent\\_diff &    98.10 \\\\\n",
            "                comp2\\_rate &    59.17 \\\\\n",
            "                 comp2\\_inv &    57.04 \\\\\n",
            "   comp2\\_rate\\_percent\\_diff &    88.78 \\\\\n",
            "                comp3\\_rate &    69.06 \\\\\n",
            "                 comp3\\_inv &    66.70 \\\\\n",
            "   comp3\\_rate\\_percent\\_diff &    90.46 \\\\\n",
            "                comp4\\_rate &    93.80 \\\\\n",
            "                 comp4\\_inv &    93.07 \\\\\n",
            "   comp4\\_rate\\_percent\\_diff &    97.36 \\\\\n",
            "                comp5\\_rate &    55.18 \\\\\n",
            "                 comp5\\_inv &    52.40 \\\\\n",
            "   comp5\\_rate\\_percent\\_diff &    83.04 \\\\\n",
            "                comp6\\_rate &    95.16 \\\\\n",
            "                 comp6\\_inv &    94.74 \\\\\n",
            "   comp6\\_rate\\_percent\\_diff &    98.06 \\\\\n",
            "                comp7\\_rate &    93.64 \\\\\n",
            "                 comp7\\_inv &    92.81 \\\\\n",
            "   comp7\\_rate\\_percent\\_diff &    97.21 \\\\\n",
            "                comp8\\_rate &    61.34 \\\\\n",
            "                 comp8\\_inv &    59.92 \\\\\n",
            "   comp8\\_rate\\_percent\\_diff &    87.60 \\\\\n",
            "        gross\\_bookings\\_usd &    97.21 \\\\\n",
            "\\bottomrule\n",
            "\\end{tabular}\n",
            "\n"
          ]
        }
      ],
      "execution_count": 37,
      "metadata": {
        "collapsed": true,
        "jupyter": {
          "source_hidden": false,
          "outputs_hidden": false
        },
        "nteract": {
          "transient": {
            "deleting": false
          }
        },
        "gather": {
          "logged": 1620631970673
        }
      }
    },
    {
      "cell_type": "code",
      "source": [
        "# sort data\n",
        "\n",
        "missing_values.sort_values(\"missing\", inplace=True)\n",
        "\n",
        "# plot\n",
        "\n",
        "sns.set(rc={'figure.figsize':(12,4.5)})\n",
        "\n",
        "plot=sns.barplot(data = missing_values,\n",
        "            x = \"column\",\n",
        "            y = \"missing\",\n",
        "            palette=\"twilight\")\n",
        "plt.xticks(rotation=90, size = 12)\n",
        "plt.yticks(size = 12)\n",
        "plt.axhline(y=90, color='grey', linestyle='--', linewidth=1)\n",
        "plot.set_ylabel('Missing (%)', size = 15)    \n",
        "plot.set_xlabel('')\n",
        "plt.tight_layout()\n",
        "plt.show() "
      ],
      "outputs": [
        {
          "output_type": "display_data",
          "data": {
            "text/plain": "<Figure size 864x324 with 1 Axes>",
            "image/png": "[encoded data removed]"
          },
          "metadata": {}
        }
      ],
      "execution_count": 87,
      "metadata": {
        "collapsed": true,
        "jupyter": {
          "source_hidden": false,
          "outputs_hidden": false
        },
        "nteract": {
          "transient": {
            "deleting": false
          }
        },
        "gather": {
          "logged": 1620634908049
        }
      }
    },
    {
      "cell_type": "code",
      "source": [
        "#reset\n",
        "plt.rc('ytick', labelsize=25)"
      ],
      "outputs": [],
      "execution_count": null,
      "metadata": {
        "collapsed": true,
        "jupyter": {
          "source_hidden": false,
          "outputs_hidden": false
        },
        "nteract": {
          "transient": {
            "deleting": false
          }
        }
      }
    },
    {
      "cell_type": "markdown",
      "source": [
        "# Overview stats"
      ],
      "metadata": {
        "nteract": {
          "transient": {
            "deleting": false
          }
        }
      }
    },
    {
      "cell_type": "markdown",
      "source": [
        "## srch_id"
      ],
      "metadata": {
        "nteract": {
          "transient": {
            "deleting": false
          }
        }
      }
    },
    {
      "cell_type": "code",
      "source": [
        "len(np.unique(df.srch_id))"
      ],
      "outputs": [
        {
          "output_type": "execute_result",
          "execution_count": 162,
          "data": {
            "text/plain": "199795"
          },
          "metadata": {}
        }
      ],
      "execution_count": 162,
      "metadata": {
        "collapsed": true,
        "jupyter": {
          "source_hidden": false,
          "outputs_hidden": false
        },
        "nteract": {
          "transient": {
            "deleting": false
          }
        },
        "gather": {
          "logged": 1620642263226
        }
      }
    },
    {
      "cell_type": "code",
      "source": [
        "counts = df.groupby(\"srch_id\").size().reset_index()\n",
        "\n",
        "np.max(counts.iloc[:,1])"
      ],
      "outputs": [
        {
          "output_type": "execute_result",
          "execution_count": 173,
          "data": {
            "text/plain": "38"
          },
          "metadata": {}
        }
      ],
      "execution_count": 173,
      "metadata": {
        "collapsed": true,
        "jupyter": {
          "source_hidden": false,
          "outputs_hidden": false
        },
        "nteract": {
          "transient": {
            "deleting": false
          }
        },
        "gather": {
          "logged": 1620642428056
        }
      }
    },
    {
      "cell_type": "markdown",
      "source": [
        "## random_bool"
      ],
      "metadata": {
        "nteract": {
          "transient": {
            "deleting": false
          }
        }
      }
    },
    {
      "cell_type": "code",
      "source": [
        "df.groupby(\"random_bool\").size()"
      ],
      "outputs": [
        {
          "output_type": "execute_result",
          "execution_count": 174,
          "data": {
            "text/plain": "random_bool\n0    3491170\n1    1467177\ndtype: int64"
          },
          "metadata": {}
        }
      ],
      "execution_count": 174,
      "metadata": {
        "collapsed": true,
        "jupyter": {
          "source_hidden": false,
          "outputs_hidden": false
        },
        "nteract": {
          "transient": {
            "deleting": false
          }
        },
        "gather": {
          "logged": 1620642600789
        }
      }
    },
    {
      "cell_type": "code",
      "source": [
        "df.groupby(\"random_bool\")[\"booking_bool\"].mean()"
      ],
      "outputs": [
        {
          "output_type": "execute_result",
          "execution_count": 175,
          "data": {
            "text/plain": "random_bool\n0    0.037402\n1    0.005325\nName: booking_bool, dtype: float64"
          },
          "metadata": {}
        }
      ],
      "execution_count": 175,
      "metadata": {
        "collapsed": true,
        "jupyter": {
          "source_hidden": false,
          "outputs_hidden": false
        },
        "nteract": {
          "transient": {
            "deleting": false
          }
        },
        "gather": {
          "logged": 1620643236796
        }
      }
    },
    {
      "cell_type": "code",
      "source": [
        "df.groupby(\"random_bool\")[\"click_bool\"].mean()"
      ],
      "outputs": [
        {
          "output_type": "execute_result",
          "execution_count": 177,
          "data": {
            "text/plain": "random_bool\n0    0.043969\n1    0.046604\nName: click_bool, dtype: float64"
          },
          "metadata": {}
        }
      ],
      "execution_count": 177,
      "metadata": {
        "collapsed": true,
        "jupyter": {
          "source_hidden": false,
          "outputs_hidden": false
        },
        "nteract": {
          "transient": {
            "deleting": false
          }
        },
        "gather": {
          "logged": 1620643360573
        }
      }
    },
    {
      "cell_type": "markdown",
      "source": [
        "## date_time"
      ],
      "metadata": {
        "nteract": {
          "transient": {
            "deleting": false
          }
        }
      }
    },
    {
      "cell_type": "code",
      "source": [
        "df['just_date'] = df['date_time'].dt.date\n",
        "\n",
        "date_stats = df.groupby('just_date').size().reset_index()\n",
        "#date_stats.to_csv(\"data_dates.csv\")"
      ],
      "outputs": [],
      "execution_count": 6,
      "metadata": {
        "collapsed": true,
        "jupyter": {
          "source_hidden": false,
          "outputs_hidden": false
        },
        "nteract": {
          "transient": {
            "deleting": false
          }
        },
        "gather": {
          "logged": 1620645362748
        }
      }
    },
    {
      "cell_type": "markdown",
      "source": [
        "## promotion_flag"
      ],
      "metadata": {
        "nteract": {
          "transient": {
            "deleting": false
          }
        }
      }
    },
    {
      "cell_type": "code",
      "source": [
        "df.groupby(\"promotion_flag\")[\"click_bool\"].mean()*100"
      ],
      "outputs": [
        {
          "output_type": "execute_result",
          "execution_count": 12,
          "data": {
            "text/plain": "promotion_flag\n0    4.047332\n1    6.030111\nName: click_bool, dtype: float64"
          },
          "metadata": {}
        }
      ],
      "execution_count": 12,
      "metadata": {
        "collapsed": true,
        "jupyter": {
          "source_hidden": false,
          "outputs_hidden": false
        },
        "nteract": {
          "transient": {
            "deleting": false
          }
        },
        "gather": {
          "logged": 1620649058841
        }
      }
    },
    {
      "cell_type": "code",
      "source": [
        "df.groupby(\"promotion_flag\")[\"booking_bool\"].mean()*100"
      ],
      "outputs": [
        {
          "output_type": "execute_result",
          "execution_count": 13,
          "data": {
            "text/plain": "promotion_flag\n0    2.479746\n1    3.923515\nName: booking_bool, dtype: float64"
          },
          "metadata": {}
        }
      ],
      "execution_count": 13,
      "metadata": {
        "collapsed": true,
        "jupyter": {
          "source_hidden": false,
          "outputs_hidden": false
        },
        "nteract": {
          "transient": {
            "deleting": false
          }
        },
        "gather": {
          "logged": 1620649065168
        }
      }
    },
    {
      "cell_type": "code",
      "source": [
        "df.groupby(\"promotion_flag\").size()"
      ],
      "outputs": [
        {
          "output_type": "execute_result",
          "execution_count": 11,
          "data": {
            "text/plain": "promotion_flag\n0    3889229\n1    1069118\ndtype: int64"
          },
          "metadata": {}
        }
      ],
      "execution_count": 11,
      "metadata": {
        "collapsed": true,
        "jupyter": {
          "source_hidden": false,
          "outputs_hidden": false
        },
        "nteract": {
          "transient": {
            "deleting": false
          }
        },
        "gather": {
          "logged": 1620648902740
        }
      }
    },
    {
      "cell_type": "markdown",
      "source": [
        "## prop_brand_bool"
      ],
      "metadata": {
        "nteract": {
          "transient": {
            "deleting": false
          }
        }
      }
    },
    {
      "cell_type": "code",
      "source": [
        "df.groupby(\"prop_brand_bool\")[\"click_bool\"].mean()*100"
      ],
      "outputs": [
        {
          "output_type": "execute_result",
          "execution_count": 14,
          "data": {
            "text/plain": "prop_brand_bool\n0    4.451255\n1    4.488443\nName: click_bool, dtype: float64"
          },
          "metadata": {}
        }
      ],
      "execution_count": 14,
      "metadata": {
        "collapsed": true,
        "jupyter": {
          "source_hidden": false,
          "outputs_hidden": false
        },
        "nteract": {
          "transient": {
            "deleting": false
          }
        },
        "gather": {
          "logged": 1620649488055
        }
      }
    },
    {
      "cell_type": "code",
      "source": [
        "df.groupby(\"prop_brand_bool\")[\"booking_bool\"].mean()*100"
      ],
      "outputs": [
        {
          "output_type": "execute_result",
          "execution_count": 15,
          "data": {
            "text/plain": "prop_brand_bool\n0    2.574137\n1    2.915896\nName: booking_bool, dtype: float64"
          },
          "metadata": {}
        }
      ],
      "execution_count": 15,
      "metadata": {
        "collapsed": true,
        "jupyter": {
          "source_hidden": false,
          "outputs_hidden": false
        },
        "nteract": {
          "transient": {
            "deleting": false
          }
        },
        "gather": {
          "logged": 1620649491111
        }
      }
    },
    {
      "cell_type": "code",
      "source": [
        "df.groupby(\"prop_brand_bool\").size()"
      ],
      "outputs": [
        {
          "output_type": "execute_result",
          "execution_count": 16,
          "data": {
            "text/plain": "prop_brand_bool\n0    1811287\n1    3147060\ndtype: int64"
          },
          "metadata": {}
        }
      ],
      "execution_count": 16,
      "metadata": {
        "collapsed": true,
        "jupyter": {
          "source_hidden": false,
          "outputs_hidden": false
        },
        "nteract": {
          "transient": {
            "deleting": false
          }
        },
        "gather": {
          "logged": 1620649514691
        }
      }
    },
    {
      "cell_type": "markdown",
      "source": [
        "## click_bool and booking_bool"
      ],
      "metadata": {
        "nteract": {
          "transient": {
            "deleting": false
          }
        }
      }
    },
    {
      "cell_type": "code",
      "source": [
        "df[\"click_bool\"].mean()*100"
      ],
      "outputs": [
        {
          "output_type": "execute_result",
          "execution_count": 17,
          "data": {
            "text/plain": "4.474858254172207"
          },
          "metadata": {}
        }
      ],
      "execution_count": 17,
      "metadata": {
        "collapsed": true,
        "jupyter": {
          "source_hidden": false,
          "outputs_hidden": false
        },
        "nteract": {
          "transient": {
            "deleting": false
          }
        },
        "gather": {
          "logged": 1620649775194
        }
      }
    },
    {
      "cell_type": "code",
      "source": [
        "df[\"booking_bool\"].mean()*100"
      ],
      "outputs": [
        {
          "output_type": "execute_result",
          "execution_count": 18,
          "data": {
            "text/plain": "2.7910511305481442"
          },
          "metadata": {}
        }
      ],
      "execution_count": 18,
      "metadata": {
        "collapsed": true,
        "jupyter": {
          "source_hidden": false,
          "outputs_hidden": false
        },
        "nteract": {
          "transient": {
            "deleting": false
          }
        },
        "gather": {
          "logged": 1620649799843
        }
      }
    },
    {
      "cell_type": "markdown",
      "source": [
        "# Numerical distributions"
      ],
      "metadata": {
        "nteract": {
          "transient": {
            "deleting": false
          }
        }
      }
    },
    {
      "cell_type": "code",
      "source": [
        "sns.set(rc={'figure.figsize':(12,4.5)})\n",
        "columns_of_interest = [\"prop_location_score1\", \"prop_location_score2\", \"prop_log_historical_price\", \"orig_destination_distance\", \n",
        "                       \"price_usd\", \"srch_length_of_stay\", \"srch_booking_window\"] #\"orig_destination_distance\"] #\"srch_adults_count\",\n",
        "                        #\"srch_children_count\" , \"srch_room_count\", \"orig_destination_distance\"]\n",
        "g = sns.boxplot(data=df[columns_of_interest], orient=\"h\", palette=\"twilight\")\n",
        "g.set_xscale(\"log\")\n",
        "plt.xticks(size = 12)\n",
        "plt.yticks(size = 12)"
      ],
      "outputs": [
        {
          "output_type": "execute_result",
          "execution_count": 46,
          "data": {
            "text/plain": "(array([0, 1, 2, 3, 4, 5, 6]), <a list of 7 Text major ticklabel objects>)"
          },
          "metadata": {}
        },
        {
          "output_type": "display_data",
          "data": {
            "text/plain": "<Figure size 864x324 with 1 Axes>",
            "image/png": "[encoded data removed]"
          },
          "metadata": {}
        }
      ],
      "execution_count": 46,
      "metadata": {
        "collapsed": true,
        "jupyter": {
          "source_hidden": false,
          "outputs_hidden": false
        },
        "nteract": {
          "transient": {
            "deleting": false
          }
        },
        "gather": {
          "logged": 1620653158996
        }
      }
    },
    {
      "cell_type": "markdown",
      "source": [
        "# Effect of position"
      ],
      "metadata": {
        "nteract": {
          "transient": {
            "deleting": false
          }
        }
      }
    },
    {
      "cell_type": "code",
      "source": [
        "# choose the columns we need\n",
        "columns_interest = [\"position\", \"booking_bool\", \"click_bool\", \"random_bool\"]\n",
        "positions_df = df[columns_interest]"
      ],
      "outputs": [],
      "execution_count": 90,
      "metadata": {
        "collapsed": true,
        "jupyter": {
          "source_hidden": false,
          "outputs_hidden": false
        },
        "nteract": {
          "transient": {
            "deleting": false
          }
        },
        "gather": {
          "logged": 1620634959995
        }
      }
    },
    {
      "cell_type": "code",
      "source": [
        "effect_position = positions_df.groupby([\"position\", \"random_bool\"]).mean().reset_index()"
      ],
      "outputs": [],
      "execution_count": 91,
      "metadata": {
        "collapsed": true,
        "jupyter": {
          "source_hidden": false,
          "outputs_hidden": false
        },
        "nteract": {
          "transient": {
            "deleting": false
          }
        },
        "gather": {
          "logged": 1620634962572
        }
      }
    },
    {
      "cell_type": "code",
      "source": [
        "fig, axes = plt.subplots(1, 2, figsize=(20, 5), sharey = True)\n",
        "\n",
        "# Bulbasaur\n",
        "sns.lineplot(data=effect_position, \n",
        "             x=\"position\", \n",
        "             y=\"booking_bool\", \n",
        "             hue = \"random_bool\",\n",
        "             linewidth = line_width,\n",
        "             ax = axes[0])\n",
        "\n",
        "# Charmander\n",
        "sns.lineplot(data=effect_position, \n",
        "             x=\"position\", \n",
        "             y=\"click_bool\", \n",
        "             hue = \"random_bool\",\n",
        "             linewidth = line_width,\n",
        "             ax = axes[1])\n",
        "\n",
        "axes[0].set_title('Booked', size = text_size)\n",
        "axes[0].set_xlabel('Position', size = text_size) \n",
        "axes[0].set_ylabel('Fraction', size = text_size)\n",
        "axes[0].get_legend().remove() \n",
        "axes[1].set_title('Clicked', size = text_size)\n",
        "axes[1].set_xlabel('Position', size = text_size) \n",
        "axes[1].set_ylabel('% booked', size = text_size)\n",
        "axes[1].legend(title = \"random_bool\", fontsize=text_size, title_fontsize=text_size)"
      ],
      "outputs": [
        {
          "output_type": "execute_result",
          "execution_count": 94,
          "data": {
            "text/plain": "<matplotlib.legend.Legend at 0x7f99c42fffd0>"
          },
          "metadata": {}
        },
        {
          "output_type": "display_data",
          "data": {
            "text/plain": "<Figure size 1440x360 with 2 Axes>",
            "image/png": "[encoded data removed]"
          },
          "metadata": {}
        }
      ],
      "execution_count": 94,
      "metadata": {
        "collapsed": true,
        "jupyter": {
          "source_hidden": false,
          "outputs_hidden": false
        },
        "nteract": {
          "transient": {
            "deleting": false
          }
        },
        "gather": {
          "logged": 1620635005817
        }
      }
    },
    {
      "cell_type": "markdown",
      "source": [
        "# Seasonality - fail"
      ],
      "metadata": {
        "nteract": {
          "transient": {
            "deleting": false
          }
        }
      }
    },
    {
      "cell_type": "code",
      "source": [
        "import datetime\n",
        "\n",
        "# extract month from the booking dates column\n",
        "# create booking start date\n",
        "temp = df['srch_booking_window'].apply(lambda x: pd.Timedelta(x, unit='D'))\n",
        "df['book_start_date'] = df['date_time'] + temp"
      ],
      "outputs": [],
      "execution_count": 99,
      "metadata": {
        "collapsed": true,
        "jupyter": {
          "source_hidden": false,
          "outputs_hidden": false
        },
        "nteract": {
          "transient": {
            "deleting": false
          }
        },
        "gather": {
          "logged": 1620638139770
        }
      }
    },
    {
      "cell_type": "code",
      "source": [
        "# extract month from the 'book_start_date'\n",
        "df['book_month'] = pd.DatetimeIndex(df['book_start_date']).month"
      ],
      "outputs": [],
      "execution_count": 100,
      "metadata": {
        "collapsed": true,
        "jupyter": {
          "source_hidden": false,
          "outputs_hidden": false
        },
        "nteract": {
          "transient": {
            "deleting": false
          }
        },
        "gather": {
          "logged": 1620638214295
        }
      }
    },
    {
      "cell_type": "code",
      "source": [
        "# filter for hotels that appeared in more than one month\n",
        "to_filter = df.groupby([\"prop_id\", \"book_month\"]).size().reset_index().groupby([\"prop_id\"]).size().reset_index()\n",
        "print(len(to_filter))\n",
        "# rename\n",
        "to_filter.columns = [\"prop_id\", \"months\"]\n",
        "# filter where there are missing values\n",
        "to_filter.query(\"months > 1\", inplace=True)\n",
        "print(len(to_filter))\n",
        "# filter the values\n",
        "df_filtered = df[df['prop_id'].isin(to_filter['prop_id'])]"
      ],
      "outputs": [
        {
          "output_type": "stream",
          "name": "stdout",
          "text": [
            "129113\n",
            "114144\n"
          ]
        }
      ],
      "execution_count": 237,
      "metadata": {
        "collapsed": true,
        "jupyter": {
          "source_hidden": false,
          "outputs_hidden": false
        },
        "nteract": {
          "transient": {
            "deleting": false
          }
        },
        "gather": {
          "logged": 1620584143026
        }
      }
    },
    {
      "cell_type": "code",
      "source": [
        "# group by prop, then by prop and month and calculate mean of booking_bool\n",
        "per_prop = df_filtered.groupby([\"prop_id\"])[\"booking_bool\"].mean().reset_index()\n",
        "per_prop_month = df_filtered.groupby([\"prop_id\", \"book_month\"])[\"booking_bool\"].mean().reset_index()\n",
        "\n",
        "# join the dataframes\n",
        "\n",
        "joined = pd.merge(per_prop_month, per_prop, how=\"left\", on=\"prop_id\", suffixes=(\"_month\", \"_all\"))\n"
      ],
      "outputs": [],
      "execution_count": 238,
      "metadata": {
        "collapsed": true,
        "jupyter": {
          "source_hidden": false,
          "outputs_hidden": false
        },
        "nteract": {
          "transient": {
            "deleting": false
          }
        },
        "gather": {
          "logged": 1620584152130
        }
      }
    },
    {
      "cell_type": "code",
      "source": [
        "# calculate the difference between booking_bool_month and booking_bool_all\n",
        "\n",
        "joined[\"diff\"] = joined[\"booking_bool_all\"] - joined[\"booking_bool_month\"]\n",
        "# calculate mean difference per prop id\n",
        "\n",
        "means = joined.groupby(\"prop_id\")[\"diff\"].mean().reset_index()"
      ],
      "outputs": [],
      "execution_count": 239,
      "metadata": {
        "collapsed": true,
        "jupyter": {
          "source_hidden": false,
          "outputs_hidden": false
        },
        "nteract": {
          "transient": {
            "deleting": false
          }
        },
        "gather": {
          "logged": 1620584154662
        }
      }
    },
    {
      "cell_type": "code",
      "source": [
        "sns.histplot(means[\"diff\"], bins = 100)\n",
        "plt.ylim()"
      ],
      "outputs": [
        {
          "output_type": "execute_result",
          "execution_count": 240,
          "data": {
            "text/plain": "(0.0, 81320.4)"
          },
          "metadata": {}
        },
        {
          "output_type": "display_data",
          "data": {
            "text/plain": "<Figure size 720x360 with 1 Axes>",
            "image/png": "[encoded data removed]"
          },
          "metadata": {
            "needs_background": "light"
          }
        }
      ],
      "execution_count": 240,
      "metadata": {
        "collapsed": true,
        "jupyter": {
          "source_hidden": false,
          "outputs_hidden": false
        },
        "nteract": {
          "transient": {
            "deleting": false
          }
        },
        "gather": {
          "logged": 1620584157289
        }
      }
    },
    {
      "cell_type": "code",
      "source": [
        "import scipy.stats as stats\n",
        "\n",
        "stats.wilcoxon(means[\"diff\"][0:10000])"
      ],
      "outputs": [
        {
          "output_type": "execute_result",
          "execution_count": 219,
          "data": {
            "text/plain": "WilcoxonResult(statistic=1935097.5, pvalue=1.1127879703082833e-35)"
          },
          "metadata": {}
        }
      ],
      "execution_count": 219,
      "metadata": {
        "collapsed": true,
        "jupyter": {
          "source_hidden": false,
          "outputs_hidden": false
        },
        "nteract": {
          "transient": {
            "deleting": false
          }
        },
        "gather": {
          "logged": 1620582166588
        }
      }
    },
    {
      "cell_type": "markdown",
      "source": [
        "# Seasonality -  2nd try"
      ],
      "metadata": {
        "nteract": {
          "transient": {
            "deleting": false
          }
        }
      }
    },
    {
      "cell_type": "code",
      "source": [
        "# create season column\n",
        "def return_season(x):\n",
        "    if x in [12, 1, 2]:\n",
        "        return \"winter\"\n",
        "    elif x in [3, 4, 5]:\n",
        "        return \"spring\"\n",
        "    elif x in [6, 7, 8]:\n",
        "        return \"summer\"\n",
        "    else:\n",
        "        return \"autumn\"\n",
        "\n",
        "seasons = df['book_month'].apply(lambda x: return_season(x))\n",
        "#perform same analysis, but on date_time (uncomment two lines below to run)\n",
        "#df[\"search_month\"] = pd.DatetimeIndex(df['date_time']).month\n",
        "#seasons = df['search_month'].apply(lambda x: return_season(x))\n",
        "df[\"season\"] = seasons"
      ],
      "outputs": [],
      "execution_count": 154,
      "metadata": {
        "collapsed": true,
        "jupyter": {
          "source_hidden": false,
          "outputs_hidden": false
        },
        "nteract": {
          "transient": {
            "deleting": false
          }
        },
        "gather": {
          "logged": 1620640301687
        }
      }
    },
    {
      "cell_type": "code",
      "source": [
        "#find prop_id that appear in more than one seson\n",
        "\n",
        "seasons_per_prop_id = df.groupby([\"prop_id\",\"season\"]).size().groupby([\"prop_id\"]).size().reset_index()\n",
        "seasons_per_prop_id.columns = [\"prop_id\", \"count\"]\n",
        "selected_prop_id = seasons_per_prop_id[seasons_per_prop_id[\"count\"] > 1][\"prop_id\"]\n"
      ],
      "outputs": [],
      "execution_count": 155,
      "metadata": {
        "collapsed": true,
        "jupyter": {
          "source_hidden": false,
          "outputs_hidden": false
        },
        "nteract": {
          "transient": {
            "deleting": false
          }
        },
        "gather": {
          "logged": 1620640304429
        }
      }
    },
    {
      "cell_type": "code",
      "source": [
        "# filter for these prop_id\n",
        "\n",
        "df_filtered = df[df[\"prop_id\"].isin(selected_prop_id)]"
      ],
      "outputs": [],
      "execution_count": 156,
      "metadata": {
        "collapsed": true,
        "jupyter": {
          "source_hidden": false,
          "outputs_hidden": false
        },
        "nteract": {
          "transient": {
            "deleting": false
          }
        },
        "gather": {
          "logged": 1620640308252
        }
      }
    },
    {
      "cell_type": "code",
      "source": [
        "# group by prop, then by prop and season and calculate mean of booking_bool\n",
        "per_prop = df_filtered.groupby([\"prop_id\"])[\"booking_bool\"].mean().reset_index()\n",
        "per_prop_month = df_filtered.groupby([\"prop_id\", \"season\"])[\"booking_bool\"].mean().reset_index()\n",
        "\n",
        "# join the dataframes\n",
        "\n",
        "joined = pd.merge(per_prop_month, per_prop, how=\"left\", on=\"prop_id\", suffixes=(\"_season\", \"_all\"))"
      ],
      "outputs": [],
      "execution_count": 157,
      "metadata": {
        "collapsed": true,
        "jupyter": {
          "source_hidden": false,
          "outputs_hidden": false
        },
        "nteract": {
          "transient": {
            "deleting": false
          }
        },
        "gather": {
          "logged": 1620640310086
        }
      }
    },
    {
      "cell_type": "code",
      "source": [
        "# calculate the difference between booking_bool_month and booking_bool_all\n",
        "\n",
        "joined[\"diff\"] = joined[\"booking_bool_all\"] - joined[\"booking_bool_season\"]\n",
        "# calculate mean difference per prop id\n",
        "\n",
        "means = joined.groupby(\"prop_id\")[\"diff\"].mean().reset_index()"
      ],
      "outputs": [],
      "execution_count": 158,
      "metadata": {
        "collapsed": true,
        "jupyter": {
          "source_hidden": false,
          "outputs_hidden": false
        },
        "nteract": {
          "transient": {
            "deleting": false
          }
        },
        "gather": {
          "logged": 1620640312306
        }
      }
    },
    {
      "cell_type": "code",
      "source": [
        "sns.histplot(means[\"diff\"], bins = 100)\n",
        "plt.ylim()"
      ],
      "outputs": [
        {
          "output_type": "execute_result",
          "execution_count": 159,
          "data": {
            "text/plain": "(0.0, 80871.0)"
          },
          "metadata": {}
        },
        {
          "output_type": "display_data",
          "data": {
            "text/plain": "<Figure size 720x360 with 1 Axes>",
            "image/png": "[encoded data removed]"
          },
          "metadata": {}
        }
      ],
      "execution_count": 159,
      "metadata": {
        "collapsed": true,
        "jupyter": {
          "source_hidden": false,
          "outputs_hidden": false
        },
        "nteract": {
          "transient": {
            "deleting": false
          }
        },
        "gather": {
          "logged": 1620640316236
        }
      }
    },
    {
      "cell_type": "code",
      "source": [
        "import scipy.stats as stats\n",
        "\n",
        "stats.wilcoxon(means[\"diff\"])"
      ],
      "outputs": [
        {
          "output_type": "execute_result",
          "execution_count": 160,
          "data": {
            "text/plain": "WilcoxonResult(statistic=327792104.5, pvalue=0.0)"
          },
          "metadata": {}
        }
      ],
      "execution_count": 160,
      "metadata": {
        "collapsed": true,
        "jupyter": {
          "source_hidden": false,
          "outputs_hidden": false
        },
        "nteract": {
          "transient": {
            "deleting": false
          }
        },
        "gather": {
          "logged": 1620640320652
        }
      }
    },
    {
      "cell_type": "markdown",
      "source": [
        "# Price rank"
      ],
      "metadata": {
        "nteract": {
          "transient": {
            "deleting": false
          }
        }
      }
    },
    {
      "cell_type": "code",
      "source": [
        "# create a price rank column\n",
        "ranks = df.groupby('srch_id')['price_usd'].rank(ascending=True, method = \"dense\")\n",
        "\n",
        "df[\"price_rank\"] = ranks"
      ],
      "outputs": [],
      "execution_count": 95,
      "metadata": {
        "collapsed": true,
        "jupyter": {
          "source_hidden": false,
          "outputs_hidden": false
        },
        "nteract": {
          "transient": {
            "deleting": false
          }
        },
        "gather": {
          "logged": 1620635028115
        }
      }
    },
    {
      "cell_type": "code",
      "source": [
        "effect_price_position = df.groupby([\"random_bool\", \"price_rank\"])[\"booking_bool\", \"click_bool\"].mean().reset_index()"
      ],
      "outputs": [],
      "execution_count": 96,
      "metadata": {
        "collapsed": true,
        "jupyter": {
          "source_hidden": false,
          "outputs_hidden": false
        },
        "nteract": {
          "transient": {
            "deleting": false
          }
        },
        "gather": {
          "logged": 1620635029959
        }
      }
    },
    {
      "cell_type": "code",
      "source": [
        "effect_price_position.head()"
      ],
      "outputs": [
        {
          "output_type": "execute_result",
          "execution_count": 97,
          "data": {
            "text/plain": "   random_bool  price_rank  booking_bool  click_bool\n0            0         1.0      0.069141    0.078832\n1            0         2.0      0.061810    0.071348\n2            0         3.0      0.056259    0.065456\n3            0         4.0      0.053518    0.062372\n4            0         5.0      0.049912    0.058129",
            "text/html": "<div>\n<style scoped>\n    .dataframe tbody tr th:only-of-type {\n        vertical-align: middle;\n    }\n\n    .dataframe tbody tr th {\n        vertical-align: top;\n    }\n\n    .dataframe thead th {\n        text-align: right;\n    }\n</style>\n<table border=\"1\" class=\"dataframe\">\n  <thead>\n    <tr style=\"text-align: right;\">\n      <th></th>\n      <th>random_bool</th>\n      <th>price_rank</th>\n      <th>booking_bool</th>\n      <th>click_bool</th>\n    </tr>\n  </thead>\n  <tbody>\n    <tr>\n      <th>0</th>\n      <td>0</td>\n      <td>1.0</td>\n      <td>0.069141</td>\n      <td>0.078832</td>\n    </tr>\n    <tr>\n      <th>1</th>\n      <td>0</td>\n      <td>2.0</td>\n      <td>0.061810</td>\n      <td>0.071348</td>\n    </tr>\n    <tr>\n      <th>2</th>\n      <td>0</td>\n      <td>3.0</td>\n      <td>0.056259</td>\n      <td>0.065456</td>\n    </tr>\n    <tr>\n      <th>3</th>\n      <td>0</td>\n      <td>4.0</td>\n      <td>0.053518</td>\n      <td>0.062372</td>\n    </tr>\n    <tr>\n      <th>4</th>\n      <td>0</td>\n      <td>5.0</td>\n      <td>0.049912</td>\n      <td>0.058129</td>\n    </tr>\n  </tbody>\n</table>\n</div>"
          },
          "metadata": {}
        }
      ],
      "execution_count": 97,
      "metadata": {
        "collapsed": true,
        "jupyter": {
          "source_hidden": false,
          "outputs_hidden": false
        },
        "nteract": {
          "transient": {
            "deleting": false
          }
        },
        "gather": {
          "logged": 1620635032634
        }
      }
    },
    {
      "cell_type": "code",
      "source": [
        "fig, axes = plt.subplots(1, 2, figsize=(20, 5), sharey = True)\n",
        "\n",
        "# Bulbasaur\n",
        "sns.lineplot(data=effect_price_position, \n",
        "             x=\"price_rank\", \n",
        "             y=\"booking_bool\", \n",
        "             hue = \"random_bool\",\n",
        "             linewidth = line_width,\n",
        "             ax = axes[0])\n",
        "\n",
        "# Charmander\n",
        "sns.lineplot(data=effect_price_position, \n",
        "             x=\"price_rank\", \n",
        "             y=\"click_bool\", \n",
        "             hue = \"random_bool\",\n",
        "             linewidth = line_width,\n",
        "             ax = axes[1])\n",
        "\n",
        "axes[0].set_title('Booked', size = text_size)\n",
        "axes[0].set_xlabel('Price position', size = text_size) \n",
        "axes[0].set_ylabel('Fraction', size = text_size)\n",
        "axes[0].get_legend().remove() \n",
        "axes[1].set_title('Clicked', size = text_size)\n",
        "axes[1].set_xlabel('Price position', size = text_size) \n",
        "axes[1].set_ylabel('% booked', size = text_size)\n",
        "axes[1].legend(title = \"random_bool\", fontsize=text_size, title_fontsize=text_size)"
      ],
      "outputs": [
        {
          "output_type": "execute_result",
          "execution_count": 98,
          "data": {
            "text/plain": "<matplotlib.legend.Legend at 0x7f99c8f06278>"
          },
          "metadata": {}
        },
        {
          "output_type": "display_data",
          "data": {
            "text/plain": "<Figure size 1440x360 with 2 Axes>",
            "image/png": "[encoded data removed]"
          },
          "metadata": {}
        }
      ],
      "execution_count": 98,
      "metadata": {
        "collapsed": true,
        "jupyter": {
          "source_hidden": false,
          "outputs_hidden": false
        },
        "nteract": {
          "transient": {
            "deleting": false
          }
        },
        "gather": {
          "logged": 1620635036477
        }
      }
    },
    {
      "cell_type": "code",
      "source": [
        "sns.lineplot(data=effect_price_position[effect_price_position.random_bool == 1], \n",
        "             x=\"price_rank\", \n",
        "             y=\"booking_bool\", \n",
        "             hue = \"random_bool\",\n",
        "             linewidth = line_width,\n",
        "             )"
      ],
      "outputs": [
        {
          "output_type": "execute_result",
          "execution_count": 30,
          "data": {
            "text/plain": "<matplotlib.axes._subplots.AxesSubplot at 0x7f99cb2663c8>"
          },
          "metadata": {}
        },
        {
          "output_type": "display_data",
          "data": {
            "text/plain": "<Figure size 720x360 with 1 Axes>",
            "image/png": "[encoded data removed]"
          },
          "metadata": {
            "needs_background": "light"
          }
        }
      ],
      "execution_count": 30,
      "metadata": {
        "collapsed": true,
        "jupyter": {
          "source_hidden": false,
          "outputs_hidden": false
        },
        "nteract": {
          "transient": {
            "deleting": false
          }
        },
        "gather": {
          "logged": 1620592212468
        }
      }
    },
    {
      "cell_type": "code",
      "source": [
        "# let's see why there is a spike\n",
        "\n",
        "df[df[\"random_bool\"] == 1] .groupby('price_rank').size()"
      ],
      "outputs": [
        {
          "output_type": "execute_result",
          "execution_count": 26,
          "data": {
            "text/plain": "price_rank\n1.0     66102\n2.0     68967\n3.0     70760\n4.0     71838\n5.0     71935\n6.0     70724\n7.0     69228\n8.0     67823\n9.0     66066\n10.0    64284\n11.0    62640\n12.0    60875\n13.0    59242\n14.0    57335\n15.0    55278\n16.0    53104\n17.0    50846\n18.0    48692\n19.0    46068\n20.0    43721\n21.0    40990\n22.0    38086\n23.0    35008\n24.0    31538\n25.0    27579\n26.0    23060\n27.0    18013\n28.0    12851\n29.0     8112\n30.0     4229\n31.0     1669\n32.0      432\n33.0       74\n34.0        8\ndtype: int64"
          },
          "metadata": {}
        }
      ],
      "execution_count": 26,
      "metadata": {
        "collapsed": true,
        "jupyter": {
          "source_hidden": false,
          "outputs_hidden": false
        },
        "nteract": {
          "transient": {
            "deleting": false
          }
        },
        "gather": {
          "logged": 1620590925941
        }
      }
    }
  ],
  "metadata": {
    "kernelspec": {
      "name": "python3",
      "language": "python",
      "display_name": "Python 3"
    },
    "language_info": {
      "name": "python",
      "version": "3.6.9",
      "mimetype": "text/x-python",
      "codemirror_mode": {
        "name": "ipython",
        "version": 3
      },
      "pygments_lexer": "ipython3",
      "nbconvert_exporter": "python",
      "file_extension": ".py"
    },
    "kernel_info": {
      "name": "python3"
    },
    "nteract": {
      "version": "nteract-front-end@1.0.0"
    },
    "microsoft": {
      "host": {
        "AzureML": {
          "notebookHasBeenCompleted": true
        }
      }
    }
  },
  "nbformat": 4,
  "nbformat_minor": 4
}